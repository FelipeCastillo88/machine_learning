{
  "nbformat": 4,
  "nbformat_minor": 0,
  "metadata": {
    "colab": {
      "provenance": [],
      "gpuType": "T4"
    },
    "kernelspec": {
      "name": "python3",
      "display_name": "Python 3"
    },
    "language_info": {
      "name": "python"
    },
    "accelerator": "GPU",
    "gpuClass": "standard"
  },
  "cells": [
    {
      "cell_type": "code",
      "source": [
        "from numpy import array\n",
        "from keras.models import Sequential\n",
        "from keras.layers import Dense\n",
        "\n",
        "import tensorflow as tf\n",
        "from tensorflow import keras\n",
        "from keras.utils.vis_utils import plot_model\n",
        "import yfinance as yf\n",
        "\n",
        "import pandas as pd\n",
        "import matplotlib.pyplot as plt\n",
        "import numpy as np\n",
        "import matplotlib.pyplot as plt\n",
        "from sklearn.datasets import load_iris, fetch_california_housing\n",
        "from sklearn.linear_model import Perceptron\n",
        "\n",
        "\n",
        "from sklearn.model_selection import train_test_split\n",
        "from sklearn.preprocessing import StandardScaler"
      ],
      "metadata": {
        "id": "SyRhl2PZzIrg"
      },
      "execution_count": 51,
      "outputs": []
    },
    {
      "cell_type": "markdown",
      "source": [
        "## Series de tiempo"
      ],
      "metadata": {
        "id": "1vbaXF5azGIu"
      }
    },
    {
      "cell_type": "code",
      "source": [
        "def split_sequence(sequence, n_steps_in, n_steps_out):\n",
        " X, y = list(), list()\n",
        " for i in range(len(sequence)):\n",
        "\n",
        "  end_ix = i + n_steps_in\n",
        "  out_end_ix = end_ix + n_steps_out\n",
        "\n",
        "  if out_end_ix > len(sequence):\n",
        "    break\n",
        "\n",
        "  seq_x, seq_y = sequence[i:end_ix], sequence[end_ix:out_end_ix]\n",
        "  X.append(seq_x)\n",
        "  y.append(seq_y)\n",
        " return array(X), array(y)\n",
        " \n",
        "\n",
        "raw_seq = [10, 20, 30, 40, 50, 60, 70, 80, 90]\n",
        "\n",
        "n_steps_in, n_steps_out = 3, 2\n",
        "\n",
        "X, y = split_sequence(raw_seq, n_steps_in, n_steps_out)\n",
        "\n",
        "model = Sequential()\n",
        "model.add(Dense(100, activation='relu', input_dim=n_steps_in))\n",
        "model.add(Dense(n_steps_out))\n",
        "model.compile(optimizer='adam', loss='mse')\n",
        "\n",
        "model.fit(X, y, epochs=2000, verbose=0)\n",
        "\n",
        "x_input = array([70, 80, 90])\n",
        "x_input = x_input.reshape((1, n_steps_in))\n",
        "yhat = model.predict(x_input, verbose=0)\n",
        "print(yhat)"
      ],
      "metadata": {
        "colab": {
          "base_uri": "https://localhost:8080/"
        },
        "id": "2Hnn_T7Jy4jF",
        "outputId": "243e51c8-107e-4e9b-8738-ccf2f84a38dc"
      },
      "execution_count": 2,
      "outputs": [
        {
          "output_type": "stream",
          "name": "stdout",
          "text": [
            "[[105.18027 115.2076 ]]\n"
          ]
        }
      ]
    },
    {
      "cell_type": "code",
      "source": [
        "data = yf.Ticker(\"NVDA\").history(period='5y')\n",
        "\n",
        "print(data.info())\n"
      ],
      "metadata": {
        "colab": {
          "base_uri": "https://localhost:8080/"
        },
        "id": "QJVR-j1KzBZ6",
        "outputId": "17d674d1-cae9-474c-814f-9cd6e201dfa8"
      },
      "execution_count": 3,
      "outputs": [
        {
          "output_type": "stream",
          "name": "stdout",
          "text": [
            "<class 'pandas.core.frame.DataFrame'>\n",
            "DatetimeIndex: 1258 entries, 2018-05-16 00:00:00-04:00 to 2023-05-15 00:00:00-04:00\n",
            "Data columns (total 7 columns):\n",
            " #   Column        Non-Null Count  Dtype  \n",
            "---  ------        --------------  -----  \n",
            " 0   Open          1258 non-null   float64\n",
            " 1   High          1258 non-null   float64\n",
            " 2   Low           1258 non-null   float64\n",
            " 3   Close         1258 non-null   float64\n",
            " 4   Volume        1258 non-null   int64  \n",
            " 5   Dividends     1258 non-null   float64\n",
            " 6   Stock Splits  1258 non-null   float64\n",
            "dtypes: float64(6), int64(1)\n",
            "memory usage: 78.6 KB\n",
            "None\n"
          ]
        }
      ]
    },
    {
      "cell_type": "code",
      "source": [
        "X, y = split_sequence(data['Close'].iloc[:-65], 60, 5)"
      ],
      "metadata": {
        "id": "WLp_YEMIzXGL"
      },
      "execution_count": 34,
      "outputs": []
    },
    {
      "cell_type": "code",
      "source": [
        "model = Sequential()\n",
        "model.add(Dense(100, activation='relu', input_dim=60))\n",
        "model.add(Dense(50, activation='relu'))\n",
        "model.add(Dense(5))\n",
        "model.compile(optimizer='adam', loss='mse')"
      ],
      "metadata": {
        "id": "REMAZ9f9zbT4"
      },
      "execution_count": 72,
      "outputs": []
    },
    {
      "cell_type": "code",
      "source": [
        "plot_model(model,  show_shapes=True, show_layer_names=True)"
      ],
      "metadata": {
        "colab": {
          "base_uri": "https://localhost:8080/",
          "height": 422
        },
        "id": "YedatzC45t6r",
        "outputId": "0e2399a6-6c82-4c31-d88e-075943e63723"
      },
      "execution_count": 73,
      "outputs": [
        {
          "output_type": "execute_result",
          "data": {
            "image/png": "[encoded data removed]",
            "text/plain": [
              "<IPython.core.display.Image object>"
            ]
          },
          "metadata": {},
          "execution_count": 73
        }
      ]
    },
    {
      "cell_type": "code",
      "source": [
        "history = model.fit(X, y, epochs=200)"
      ],
      "metadata": {
        "colab": {
          "base_uri": "https://localhost:8080/"
        },
        "id": "GkP2AToF5lHY",
        "outputId": "a8d8aea9-0986-4785-9d57-06ef3f0a37fb"
      },
      "execution_count": 74,
      "outputs": [
        {
          "output_type": "stream",
          "name": "stdout",
          "text": [
            "Epoch 1/200\n",
            "36/36 [==============================] - 1s 3ms/step - loss: 3786.1382\n",
            "Epoch 2/200\n",
            "36/36 [==============================] - 0s 3ms/step - loss: 347.6888\n",
            "Epoch 3/200\n",
            "36/36 [==============================] - 0s 3ms/step - loss: 276.1425\n",
            "Epoch 4/200\n",
            "36/36 [==============================] - 0s 3ms/step - loss: 228.2165\n",
            "Epoch 5/200\n",
            "36/36 [==============================] - 0s 3ms/step - loss: 199.6440\n",
            "Epoch 6/200\n",
            "36/36 [==============================] - 0s 3ms/step - loss: 171.4441\n",
            "Epoch 7/200\n",
            "36/36 [==============================] - 0s 3ms/step - loss: 159.8538\n",
            "Epoch 8/200\n",
            "36/36 [==============================] - 0s 3ms/step - loss: 149.2612\n",
            "Epoch 9/200\n",
            "36/36 [==============================] - 0s 3ms/step - loss: 146.6317\n",
            "Epoch 10/200\n",
            "36/36 [==============================] - 0s 3ms/step - loss: 137.6820\n",
            "Epoch 11/200\n",
            "36/36 [==============================] - 0s 3ms/step - loss: 132.0025\n",
            "Epoch 12/200\n",
            "36/36 [==============================] - 0s 3ms/step - loss: 130.8560\n",
            "Epoch 13/200\n",
            "36/36 [==============================] - 0s 3ms/step - loss: 118.9777\n",
            "Epoch 14/200\n",
            "36/36 [==============================] - 0s 3ms/step - loss: 114.5231\n",
            "Epoch 15/200\n",
            "36/36 [==============================] - 0s 3ms/step - loss: 122.0208\n",
            "Epoch 16/200\n",
            "36/36 [==============================] - 0s 3ms/step - loss: 133.3043\n",
            "Epoch 17/200\n",
            "36/36 [==============================] - 0s 3ms/step - loss: 115.3881\n",
            "Epoch 18/200\n",
            "36/36 [==============================] - 0s 5ms/step - loss: 111.6224\n",
            "Epoch 19/200\n",
            "36/36 [==============================] - 0s 5ms/step - loss: 138.3726\n",
            "Epoch 20/200\n",
            "36/36 [==============================] - 0s 4ms/step - loss: 115.0656\n",
            "Epoch 21/200\n",
            "36/36 [==============================] - 0s 4ms/step - loss: 99.5096\n",
            "Epoch 22/200\n",
            "36/36 [==============================] - 0s 4ms/step - loss: 107.7616\n",
            "Epoch 23/200\n",
            "36/36 [==============================] - 0s 4ms/step - loss: 100.2719\n",
            "Epoch 24/200\n",
            "36/36 [==============================] - 0s 5ms/step - loss: 107.3247\n",
            "Epoch 25/200\n",
            "36/36 [==============================] - 0s 5ms/step - loss: 98.7800\n",
            "Epoch 26/200\n",
            "36/36 [==============================] - 0s 4ms/step - loss: 101.0907\n",
            "Epoch 27/200\n",
            "36/36 [==============================] - 0s 4ms/step - loss: 131.1345\n",
            "Epoch 28/200\n",
            "36/36 [==============================] - 0s 5ms/step - loss: 97.4364\n",
            "Epoch 29/200\n",
            "36/36 [==============================] - 0s 4ms/step - loss: 100.8965\n",
            "Epoch 30/200\n",
            "36/36 [==============================] - 0s 5ms/step - loss: 150.2386\n",
            "Epoch 31/200\n",
            "36/36 [==============================] - 0s 5ms/step - loss: 91.0665\n",
            "Epoch 32/200\n",
            "36/36 [==============================] - 0s 5ms/step - loss: 94.5097\n",
            "Epoch 33/200\n",
            "36/36 [==============================] - 0s 3ms/step - loss: 102.5594\n",
            "Epoch 34/200\n",
            "36/36 [==============================] - 0s 3ms/step - loss: 93.2437\n",
            "Epoch 35/200\n",
            "36/36 [==============================] - 0s 3ms/step - loss: 89.6628\n",
            "Epoch 36/200\n",
            "36/36 [==============================] - 0s 3ms/step - loss: 94.5348\n",
            "Epoch 37/200\n",
            "36/36 [==============================] - 0s 3ms/step - loss: 103.7376\n",
            "Epoch 38/200\n",
            "36/36 [==============================] - 0s 3ms/step - loss: 100.6727\n",
            "Epoch 39/200\n",
            "36/36 [==============================] - 0s 3ms/step - loss: 88.9780\n",
            "Epoch 40/200\n",
            "36/36 [==============================] - 0s 3ms/step - loss: 86.6919\n",
            "Epoch 41/200\n",
            "36/36 [==============================] - 0s 3ms/step - loss: 88.8495\n",
            "Epoch 42/200\n",
            "36/36 [==============================] - 0s 3ms/step - loss: 95.4265\n",
            "Epoch 43/200\n",
            "36/36 [==============================] - 0s 3ms/step - loss: 97.3179\n",
            "Epoch 44/200\n",
            "36/36 [==============================] - 0s 3ms/step - loss: 90.2060\n",
            "Epoch 45/200\n",
            "36/36 [==============================] - 0s 4ms/step - loss: 98.3404\n",
            "Epoch 46/200\n",
            "36/36 [==============================] - 0s 3ms/step - loss: 85.7994\n",
            "Epoch 47/200\n",
            "36/36 [==============================] - 0s 3ms/step - loss: 90.1129\n",
            "Epoch 48/200\n",
            "36/36 [==============================] - 0s 3ms/step - loss: 96.4118\n",
            "Epoch 49/200\n",
            "36/36 [==============================] - 0s 3ms/step - loss: 97.1523\n",
            "Epoch 50/200\n",
            "36/36 [==============================] - 0s 3ms/step - loss: 112.0457\n",
            "Epoch 51/200\n",
            "36/36 [==============================] - 0s 3ms/step - loss: 91.8963\n",
            "Epoch 52/200\n",
            "36/36 [==============================] - 0s 3ms/step - loss: 82.3598\n",
            "Epoch 53/200\n",
            "36/36 [==============================] - 0s 3ms/step - loss: 89.3821\n",
            "Epoch 54/200\n",
            "36/36 [==============================] - 0s 3ms/step - loss: 88.1848\n",
            "Epoch 55/200\n",
            "36/36 [==============================] - 0s 3ms/step - loss: 84.5981\n",
            "Epoch 56/200\n",
            "36/36 [==============================] - 0s 3ms/step - loss: 84.7431\n",
            "Epoch 57/200\n",
            "36/36 [==============================] - 0s 3ms/step - loss: 79.6704\n",
            "Epoch 58/200\n",
            "36/36 [==============================] - 0s 3ms/step - loss: 91.7205\n",
            "Epoch 59/200\n",
            "36/36 [==============================] - 0s 3ms/step - loss: 114.0266\n",
            "Epoch 60/200\n",
            "36/36 [==============================] - 0s 3ms/step - loss: 86.5919\n",
            "Epoch 61/200\n",
            "36/36 [==============================] - 0s 3ms/step - loss: 87.9496\n",
            "Epoch 62/200\n",
            "36/36 [==============================] - 0s 3ms/step - loss: 83.7003\n",
            "Epoch 63/200\n",
            "36/36 [==============================] - 0s 3ms/step - loss: 90.8177\n",
            "Epoch 64/200\n",
            "36/36 [==============================] - 0s 3ms/step - loss: 81.6412\n",
            "Epoch 65/200\n",
            "36/36 [==============================] - 0s 3ms/step - loss: 87.0069\n",
            "Epoch 66/200\n",
            "36/36 [==============================] - 0s 3ms/step - loss: 117.5651\n",
            "Epoch 67/200\n",
            "36/36 [==============================] - 0s 3ms/step - loss: 105.9134\n",
            "Epoch 68/200\n",
            "36/36 [==============================] - 0s 3ms/step - loss: 121.7543\n",
            "Epoch 69/200\n",
            "36/36 [==============================] - 0s 3ms/step - loss: 90.2839\n",
            "Epoch 70/200\n",
            "36/36 [==============================] - 0s 4ms/step - loss: 83.2105\n",
            "Epoch 71/200\n",
            "36/36 [==============================] - 0s 3ms/step - loss: 84.2416\n",
            "Epoch 72/200\n",
            "36/36 [==============================] - 0s 3ms/step - loss: 100.2507\n",
            "Epoch 73/200\n",
            "36/36 [==============================] - 0s 3ms/step - loss: 81.2723\n",
            "Epoch 74/200\n",
            "36/36 [==============================] - 0s 3ms/step - loss: 80.2156\n",
            "Epoch 75/200\n",
            "36/36 [==============================] - 0s 3ms/step - loss: 77.4357\n",
            "Epoch 76/200\n",
            "36/36 [==============================] - 0s 3ms/step - loss: 84.0499\n",
            "Epoch 77/200\n",
            "36/36 [==============================] - 0s 3ms/step - loss: 83.9670\n",
            "Epoch 78/200\n",
            "36/36 [==============================] - 0s 3ms/step - loss: 85.3347\n",
            "Epoch 79/200\n",
            "36/36 [==============================] - 0s 3ms/step - loss: 77.1024\n",
            "Epoch 80/200\n",
            "36/36 [==============================] - 0s 3ms/step - loss: 100.3010\n",
            "Epoch 81/200\n",
            "36/36 [==============================] - 0s 3ms/step - loss: 77.6927\n",
            "Epoch 82/200\n",
            "36/36 [==============================] - 0s 3ms/step - loss: 75.4398\n",
            "Epoch 83/200\n",
            "36/36 [==============================] - 0s 3ms/step - loss: 91.2130\n",
            "Epoch 84/200\n",
            "36/36 [==============================] - 0s 3ms/step - loss: 80.4521\n",
            "Epoch 85/200\n",
            "36/36 [==============================] - 0s 3ms/step - loss: 104.2688\n",
            "Epoch 86/200\n",
            "36/36 [==============================] - 0s 3ms/step - loss: 92.5148\n",
            "Epoch 87/200\n",
            "36/36 [==============================] - 0s 3ms/step - loss: 89.4116\n",
            "Epoch 88/200\n",
            "36/36 [==============================] - 0s 3ms/step - loss: 80.9346\n",
            "Epoch 89/200\n",
            "36/36 [==============================] - 0s 3ms/step - loss: 79.6195\n",
            "Epoch 90/200\n",
            "36/36 [==============================] - 0s 3ms/step - loss: 107.1186\n",
            "Epoch 91/200\n",
            "36/36 [==============================] - 0s 3ms/step - loss: 93.3197\n",
            "Epoch 92/200\n",
            "36/36 [==============================] - 0s 3ms/step - loss: 77.3631\n",
            "Epoch 93/200\n",
            "36/36 [==============================] - 0s 3ms/step - loss: 72.5637\n",
            "Epoch 94/200\n",
            "36/36 [==============================] - 0s 4ms/step - loss: 80.1410\n",
            "Epoch 95/200\n",
            "36/36 [==============================] - 0s 3ms/step - loss: 77.2704\n",
            "Epoch 96/200\n",
            "36/36 [==============================] - 0s 3ms/step - loss: 78.8486\n",
            "Epoch 97/200\n",
            "36/36 [==============================] - 0s 3ms/step - loss: 81.1174\n",
            "Epoch 98/200\n",
            "36/36 [==============================] - 0s 3ms/step - loss: 75.3522\n",
            "Epoch 99/200\n",
            "36/36 [==============================] - 0s 3ms/step - loss: 72.7428\n",
            "Epoch 100/200\n",
            "36/36 [==============================] - 0s 3ms/step - loss: 83.8710\n",
            "Epoch 101/200\n",
            "36/36 [==============================] - 0s 3ms/step - loss: 86.1489\n",
            "Epoch 102/200\n",
            "36/36 [==============================] - 0s 3ms/step - loss: 77.0817\n",
            "Epoch 103/200\n",
            "36/36 [==============================] - 0s 3ms/step - loss: 86.8043\n",
            "Epoch 104/200\n",
            "36/36 [==============================] - 0s 3ms/step - loss: 78.8032\n",
            "Epoch 105/200\n",
            "36/36 [==============================] - 0s 4ms/step - loss: 79.4425\n",
            "Epoch 106/200\n",
            "36/36 [==============================] - 0s 3ms/step - loss: 76.4516\n",
            "Epoch 107/200\n",
            "36/36 [==============================] - 0s 3ms/step - loss: 75.0809\n",
            "Epoch 108/200\n",
            "36/36 [==============================] - 0s 3ms/step - loss: 69.9105\n",
            "Epoch 109/200\n",
            "36/36 [==============================] - 0s 3ms/step - loss: 73.2903\n",
            "Epoch 110/200\n",
            "36/36 [==============================] - 0s 3ms/step - loss: 80.7408\n",
            "Epoch 111/200\n",
            "36/36 [==============================] - 0s 3ms/step - loss: 94.1266\n",
            "Epoch 112/200\n",
            "36/36 [==============================] - 0s 3ms/step - loss: 78.6397\n",
            "Epoch 113/200\n",
            "36/36 [==============================] - 0s 3ms/step - loss: 81.0042\n",
            "Epoch 114/200\n",
            "36/36 [==============================] - 0s 4ms/step - loss: 100.3072\n",
            "Epoch 115/200\n",
            "36/36 [==============================] - 0s 3ms/step - loss: 69.3959\n",
            "Epoch 116/200\n",
            "36/36 [==============================] - 0s 4ms/step - loss: 75.5038\n",
            "Epoch 117/200\n",
            "36/36 [==============================] - 0s 5ms/step - loss: 82.7741\n",
            "Epoch 118/200\n",
            "36/36 [==============================] - 0s 4ms/step - loss: 75.1683\n",
            "Epoch 119/200\n",
            "36/36 [==============================] - 0s 4ms/step - loss: 88.5108\n",
            "Epoch 120/200\n",
            "36/36 [==============================] - 0s 4ms/step - loss: 84.1289\n",
            "Epoch 121/200\n",
            "36/36 [==============================] - 0s 4ms/step - loss: 81.8866\n",
            "Epoch 122/200\n",
            "36/36 [==============================] - 0s 4ms/step - loss: 83.7355\n",
            "Epoch 123/200\n",
            "36/36 [==============================] - 0s 5ms/step - loss: 72.9857\n",
            "Epoch 124/200\n",
            "36/36 [==============================] - 0s 4ms/step - loss: 75.2771\n",
            "Epoch 125/200\n",
            "36/36 [==============================] - 0s 4ms/step - loss: 72.5872\n",
            "Epoch 126/200\n",
            "36/36 [==============================] - 0s 4ms/step - loss: 74.4796\n",
            "Epoch 127/200\n",
            "36/36 [==============================] - 0s 4ms/step - loss: 71.1727\n",
            "Epoch 128/200\n",
            "36/36 [==============================] - 0s 4ms/step - loss: 70.7593\n",
            "Epoch 129/200\n",
            "36/36 [==============================] - 0s 5ms/step - loss: 81.8891\n",
            "Epoch 130/200\n",
            "36/36 [==============================] - 0s 4ms/step - loss: 71.6276\n",
            "Epoch 131/200\n",
            "36/36 [==============================] - 0s 4ms/step - loss: 79.6050\n",
            "Epoch 132/200\n",
            "36/36 [==============================] - 0s 3ms/step - loss: 73.0564\n",
            "Epoch 133/200\n",
            "36/36 [==============================] - 0s 3ms/step - loss: 93.1832\n",
            "Epoch 134/200\n",
            "36/36 [==============================] - 0s 3ms/step - loss: 94.5102\n",
            "Epoch 135/200\n",
            "36/36 [==============================] - 0s 4ms/step - loss: 69.4426\n",
            "Epoch 136/200\n",
            "36/36 [==============================] - 0s 3ms/step - loss: 73.1931\n",
            "Epoch 137/200\n",
            "36/36 [==============================] - 0s 3ms/step - loss: 76.7149\n",
            "Epoch 138/200\n",
            "36/36 [==============================] - 0s 3ms/step - loss: 73.6999\n",
            "Epoch 139/200\n",
            "36/36 [==============================] - 0s 3ms/step - loss: 88.9709\n",
            "Epoch 140/200\n",
            "36/36 [==============================] - 0s 3ms/step - loss: 90.9386\n",
            "Epoch 141/200\n",
            "36/36 [==============================] - 0s 3ms/step - loss: 83.4847\n",
            "Epoch 142/200\n",
            "36/36 [==============================] - 0s 3ms/step - loss: 94.3474\n",
            "Epoch 143/200\n",
            "36/36 [==============================] - 0s 3ms/step - loss: 74.1973\n",
            "Epoch 144/200\n",
            "36/36 [==============================] - 0s 3ms/step - loss: 76.1990\n",
            "Epoch 145/200\n",
            "36/36 [==============================] - 0s 3ms/step - loss: 66.6115\n",
            "Epoch 146/200\n",
            "36/36 [==============================] - 0s 3ms/step - loss: 78.6761\n",
            "Epoch 147/200\n",
            "36/36 [==============================] - 0s 3ms/step - loss: 76.6240\n",
            "Epoch 148/200\n",
            "36/36 [==============================] - 0s 3ms/step - loss: 82.3728\n",
            "Epoch 149/200\n",
            "36/36 [==============================] - 0s 3ms/step - loss: 79.7166\n",
            "Epoch 150/200\n",
            "36/36 [==============================] - 0s 3ms/step - loss: 73.9150\n",
            "Epoch 151/200\n",
            "36/36 [==============================] - 0s 4ms/step - loss: 69.6431\n",
            "Epoch 152/200\n",
            "36/36 [==============================] - 0s 3ms/step - loss: 70.2519\n",
            "Epoch 153/200\n",
            "36/36 [==============================] - 0s 3ms/step - loss: 68.5034\n",
            "Epoch 154/200\n",
            "36/36 [==============================] - 0s 3ms/step - loss: 66.7975\n",
            "Epoch 155/200\n",
            "36/36 [==============================] - 0s 3ms/step - loss: 63.5706\n",
            "Epoch 156/200\n",
            "36/36 [==============================] - 0s 3ms/step - loss: 70.2690\n",
            "Epoch 157/200\n",
            "36/36 [==============================] - 0s 3ms/step - loss: 86.7240\n",
            "Epoch 158/200\n",
            "36/36 [==============================] - 0s 3ms/step - loss: 68.1138\n",
            "Epoch 159/200\n",
            "36/36 [==============================] - 0s 3ms/step - loss: 77.1611\n",
            "Epoch 160/200\n",
            "36/36 [==============================] - 0s 3ms/step - loss: 72.3078\n",
            "Epoch 161/200\n",
            "36/36 [==============================] - 0s 3ms/step - loss: 68.3463\n",
            "Epoch 162/200\n",
            "36/36 [==============================] - 0s 3ms/step - loss: 67.7372\n",
            "Epoch 163/200\n",
            "36/36 [==============================] - 0s 3ms/step - loss: 63.8268\n",
            "Epoch 164/200\n",
            "36/36 [==============================] - 0s 3ms/step - loss: 73.3385\n",
            "Epoch 165/200\n",
            "36/36 [==============================] - 0s 3ms/step - loss: 72.6262\n",
            "Epoch 166/200\n",
            "36/36 [==============================] - 0s 3ms/step - loss: 76.3093\n",
            "Epoch 167/200\n",
            "36/36 [==============================] - 0s 3ms/step - loss: 78.7252\n",
            "Epoch 168/200\n",
            "36/36 [==============================] - 0s 3ms/step - loss: 67.3592\n",
            "Epoch 169/200\n",
            "36/36 [==============================] - 0s 3ms/step - loss: 70.5710\n",
            "Epoch 170/200\n",
            "36/36 [==============================] - 0s 3ms/step - loss: 66.8771\n",
            "Epoch 171/200\n",
            "36/36 [==============================] - 0s 3ms/step - loss: 70.0249\n",
            "Epoch 172/200\n",
            "36/36 [==============================] - 0s 3ms/step - loss: 69.2319\n",
            "Epoch 173/200\n",
            "36/36 [==============================] - 0s 3ms/step - loss: 76.1842\n",
            "Epoch 174/200\n",
            "36/36 [==============================] - 0s 3ms/step - loss: 76.7919\n",
            "Epoch 175/200\n",
            "36/36 [==============================] - 0s 3ms/step - loss: 75.8722\n",
            "Epoch 176/200\n",
            "36/36 [==============================] - 0s 3ms/step - loss: 70.5129\n",
            "Epoch 177/200\n",
            "36/36 [==============================] - 0s 3ms/step - loss: 64.9058\n",
            "Epoch 178/200\n",
            "36/36 [==============================] - 0s 3ms/step - loss: 75.9875\n",
            "Epoch 179/200\n",
            "36/36 [==============================] - 0s 3ms/step - loss: 76.5314\n",
            "Epoch 180/200\n",
            "36/36 [==============================] - 0s 3ms/step - loss: 68.2759\n",
            "Epoch 181/200\n",
            "36/36 [==============================] - 0s 3ms/step - loss: 70.0564\n",
            "Epoch 182/200\n",
            "36/36 [==============================] - 0s 3ms/step - loss: 69.2159\n",
            "Epoch 183/200\n",
            "36/36 [==============================] - 0s 3ms/step - loss: 67.5296\n",
            "Epoch 184/200\n",
            "36/36 [==============================] - 0s 3ms/step - loss: 70.0460\n",
            "Epoch 185/200\n",
            "36/36 [==============================] - 0s 4ms/step - loss: 64.5311\n",
            "Epoch 186/200\n",
            "36/36 [==============================] - 0s 3ms/step - loss: 72.9201\n",
            "Epoch 187/200\n",
            "36/36 [==============================] - 0s 3ms/step - loss: 66.8234\n",
            "Epoch 188/200\n",
            "36/36 [==============================] - 0s 3ms/step - loss: 93.7443\n",
            "Epoch 189/200\n",
            "36/36 [==============================] - 0s 3ms/step - loss: 97.8376\n",
            "Epoch 190/200\n",
            "36/36 [==============================] - 0s 3ms/step - loss: 91.4462\n",
            "Epoch 191/200\n",
            "36/36 [==============================] - 0s 3ms/step - loss: 71.9320\n",
            "Epoch 192/200\n",
            "36/36 [==============================] - 0s 3ms/step - loss: 73.0354\n",
            "Epoch 193/200\n",
            "36/36 [==============================] - 0s 3ms/step - loss: 69.6321\n",
            "Epoch 194/200\n",
            "36/36 [==============================] - 0s 4ms/step - loss: 62.2518\n",
            "Epoch 195/200\n",
            "36/36 [==============================] - 0s 4ms/step - loss: 65.6194\n",
            "Epoch 196/200\n",
            "36/36 [==============================] - 0s 3ms/step - loss: 65.3953\n",
            "Epoch 197/200\n",
            "36/36 [==============================] - 0s 3ms/step - loss: 66.1310\n",
            "Epoch 198/200\n",
            "36/36 [==============================] - 0s 3ms/step - loss: 88.0697\n",
            "Epoch 199/200\n",
            "36/36 [==============================] - 0s 3ms/step - loss: 75.4764\n",
            "Epoch 200/200\n",
            "36/36 [==============================] - 0s 3ms/step - loss: 66.0743\n"
          ]
        }
      ]
    },
    {
      "cell_type": "code",
      "source": [
        "pd.DataFrame(history.history).plot(figsize=(8,5))\n",
        "plt.grid(True)\n",
        "plt.show()"
      ],
      "metadata": {
        "colab": {
          "base_uri": "https://localhost:8080/",
          "height": 445
        },
        "id": "LtZWmnGe5052",
        "outputId": "6eca2f43-c6a0-4e0a-abd2-7b0317485dc8"
      },
      "execution_count": 75,
      "outputs": [
        {
          "output_type": "display_data",
          "data": {
            "text/plain": [
              "<Figure size 800x500 with 1 Axes>"
            ],
            "image/png": "[encoded data removed]"
          },
          "metadata": {}
        }
      ]
    },
    {
      "cell_type": "code",
      "source": [
        "x_input = data['Close'].iloc[-65:-5].to_numpy()\n",
        "x_input = x_input.reshape((1, 60))\n",
        "yhat = model.predict(x_input, verbose=0)\n",
        "print(yhat)"
      ],
      "metadata": {
        "colab": {
          "base_uri": "https://localhost:8080/"
        },
        "id": "je4tyz7I5ltZ",
        "outputId": "068236ec-1cc9-4d46-a4b0-2a6ff7ce7792"
      },
      "execution_count": 76,
      "outputs": [
        {
          "output_type": "stream",
          "name": "stdout",
          "text": [
            "[[286.35336 292.02164 291.35797 288.73425 286.85437]]\n"
          ]
        }
      ]
    },
    {
      "cell_type": "code",
      "source": [
        "yhat = yhat.squeeze()\n",
        "\n",
        "fig, ax = plt.subplots(1, 1, figsize=(14, 8))\n",
        "ax.plot(data['Close'].iloc[-65:], label='real')\n",
        "#ax[1].plot(data['Close'].iloc[:-65])\n",
        "#ax.plot(data['Close'].iloc[-65:-5], alpha=0.5)\n",
        "ax.plot(pd.Series(yhat, index=data['Close'].index[-5:]), alpha=0.5, label='pred')\n",
        "plt.legend()"
      ],
      "metadata": {
        "colab": {
          "base_uri": "https://localhost:8080/",
          "height": 693
        },
        "id": "vFGkK0t_zlb0",
        "outputId": "6fb65a6f-e058-4812-c60d-800ceb37fdd4"
      },
      "execution_count": 77,
      "outputs": [
        {
          "output_type": "execute_result",
          "data": {
            "text/plain": [
              "<matplotlib.legend.Legend at 0x7fa856cc63b0>"
            ]
          },
          "metadata": {},
          "execution_count": 77
        },
        {
          "output_type": "display_data",
          "data": {
            "text/plain": [
              "<Figure size 1400x800 with 1 Axes>"
            ],
            "image/png": "[encoded data removed]"
          },
          "metadata": {}
        }
      ]
    },
    {
      "cell_type": "markdown",
      "source": [
        "## Imágenes"
      ],
      "metadata": {
        "id": "NnsSDFrO35lV"
      }
    },
    {
      "cell_type": "code",
      "source": [
        "fashion_mnist = keras.datasets.fashion_mnist\n",
        "(X_train_full, y_train_full), (X_test, y_test) = fashion_mnist.load_data()"
      ],
      "metadata": {
        "colab": {
          "base_uri": "https://localhost:8080/"
        },
        "id": "bkoQBRcC2T4r",
        "outputId": "f04fb185-5e2f-4c82-c497-7006a2aea3a8"
      },
      "execution_count": 52,
      "outputs": [
        {
          "output_type": "stream",
          "name": "stdout",
          "text": [
            "Downloading data from https://storage.googleapis.com/tensorflow/tf-keras-datasets/train-labels-idx1-ubyte.gz\n",
            "29515/29515 [==============================] - 0s 1us/step\n",
            "Downloading data from https://storage.googleapis.com/tensorflow/tf-keras-datasets/train-images-idx3-ubyte.gz\n",
            "26421880/26421880 [==============================] - 2s 0us/step\n",
            "Downloading data from https://storage.googleapis.com/tensorflow/tf-keras-datasets/t10k-labels-idx1-ubyte.gz\n",
            "5148/5148 [==============================] - 0s 0us/step\n",
            "Downloading data from https://storage.googleapis.com/tensorflow/tf-keras-datasets/t10k-images-idx3-ubyte.gz\n",
            "4422102/4422102 [==============================] - 1s 0us/step\n"
          ]
        }
      ]
    },
    {
      "cell_type": "code",
      "source": [
        "X_train_full.shape"
      ],
      "metadata": {
        "colab": {
          "base_uri": "https://localhost:8080/"
        },
        "id": "tF6YnOjD39QW",
        "outputId": "1cb6145d-d02c-40bd-964e-972a695591ee"
      },
      "execution_count": 53,
      "outputs": [
        {
          "output_type": "execute_result",
          "data": {
            "text/plain": [
              "(60000, 28, 28)"
            ]
          },
          "metadata": {},
          "execution_count": 53
        }
      ]
    },
    {
      "cell_type": "code",
      "source": [
        "X_train_full.dtype"
      ],
      "metadata": {
        "colab": {
          "base_uri": "https://localhost:8080/"
        },
        "id": "MawqCr8B3-gK",
        "outputId": "50c1aab4-7e69-47de-ead6-0b3175a8a017"
      },
      "execution_count": 54,
      "outputs": [
        {
          "output_type": "execute_result",
          "data": {
            "text/plain": [
              "dtype('uint8')"
            ]
          },
          "metadata": {},
          "execution_count": 54
        }
      ]
    },
    {
      "cell_type": "code",
      "source": [
        "X_valid, X_train = X_train_full[:5000] / 255.0, X_train_full[5000:] /255.0\n",
        "y_valid, y_train = y_train_full[:5000], y_train_full[5000:]"
      ],
      "metadata": {
        "id": "_MHscV7P3_5z"
      },
      "execution_count": 55,
      "outputs": []
    },
    {
      "cell_type": "code",
      "source": [
        "class_names = [\"T-shirt/top\", \"Trouser\", \"Pullover\", \"Dress\", \"Coat\",\n",
        " \"Sandal\", \"Shirt\", \"Sneaker\", \"Bag\", \"Ankle boot\"]"
      ],
      "metadata": {
        "id": "pm-Eg6DR4BSm"
      },
      "execution_count": 56,
      "outputs": []
    },
    {
      "cell_type": "code",
      "source": [
        "class_names[y_train[0]]"
      ],
      "metadata": {
        "colab": {
          "base_uri": "https://localhost:8080/",
          "height": 35
        },
        "id": "M3ZEST1L4Clw",
        "outputId": "d82f05f9-7207-4d62-be3f-977e642b59d7"
      },
      "execution_count": 57,
      "outputs": [
        {
          "output_type": "execute_result",
          "data": {
            "text/plain": [
              "'Coat'"
            ],
            "application/vnd.google.colaboratory.intrinsic+json": {
              "type": "string"
            }
          },
          "metadata": {},
          "execution_count": 57
        }
      ]
    },
    {
      "cell_type": "code",
      "source": [
        "plt.imshow(X_valid[0])\n",
        "plt.title(class_names[y_valid[0]])"
      ],
      "metadata": {
        "colab": {
          "base_uri": "https://localhost:8080/",
          "height": 469
        },
        "id": "ytaaVlXa5D9V",
        "outputId": "2b98c16c-3a27-4647-8ace-d477dc73a97c"
      },
      "execution_count": 60,
      "outputs": [
        {
          "output_type": "execute_result",
          "data": {
            "text/plain": [
              "Text(0.5, 1.0, 'Ankle boot')"
            ]
          },
          "metadata": {},
          "execution_count": 60
        },
        {
          "output_type": "display_data",
          "data": {
            "text/plain": [
              "<Figure size 640x480 with 1 Axes>"
            ],
            "image/png": "[encoded data removed]"
          },
          "metadata": {}
        }
      ]
    },
    {
      "cell_type": "code",
      "source": [
        "model = keras.models.Sequential()\n",
        "model.add(keras.layers.Flatten(input_shape=[28, 28]))\n",
        "model.add(keras.layers.Dense(300, activation='relu'))\n",
        "model.add(keras.layers.Dense(100, activation='relu'))\n",
        "model.add(keras.layers.Dense(10, activation='softmax'))"
      ],
      "metadata": {
        "id": "JK9hdNOw4C_Y"
      },
      "execution_count": 61,
      "outputs": []
    },
    {
      "cell_type": "code",
      "source": [
        "model.summary()"
      ],
      "metadata": {
        "colab": {
          "base_uri": "https://localhost:8080/"
        },
        "id": "1albUhrD4F0H",
        "outputId": "ce223904-d57b-437e-ebff-452d46da10c5"
      },
      "execution_count": 62,
      "outputs": [
        {
          "output_type": "stream",
          "name": "stdout",
          "text": [
            "Model: \"sequential_10\"\n",
            "_________________________________________________________________\n",
            " Layer (type)                Output Shape              Param #   \n",
            "=================================================================\n",
            " flatten (Flatten)           (None, 784)               0         \n",
            "                                                                 \n",
            " dense_20 (Dense)            (None, 300)               235500    \n",
            "                                                                 \n",
            " dense_21 (Dense)            (None, 100)               30100     \n",
            "                                                                 \n",
            " dense_22 (Dense)            (None, 10)                1010      \n",
            "                                                                 \n",
            "=================================================================\n",
            "Total params: 266,610\n",
            "Trainable params: 266,610\n",
            "Non-trainable params: 0\n",
            "_________________________________________________________________\n"
          ]
        }
      ]
    },
    {
      "cell_type": "code",
      "source": [
        "plot_model(model,  show_shapes=True, show_layer_names=True)"
      ],
      "metadata": {
        "colab": {
          "base_uri": "https://localhost:8080/",
          "height": 533
        },
        "id": "C4VDwGUN4HBd",
        "outputId": "6e2d85a1-f92b-4608-9ab4-9577a891082f"
      },
      "execution_count": 63,
      "outputs": [
        {
          "output_type": "execute_result",
          "data": {
            "image/png": "[encoded data removed]",
            "text/plain": [
              "<IPython.core.display.Image object>"
            ]
          },
          "metadata": {},
          "execution_count": 63
        }
      ]
    },
    {
      "cell_type": "code",
      "source": [
        "model.compile(loss='sparse_categorical_crossentropy',\n",
        "              optimizer='sgd',\n",
        "              metrics=['accuracy'])"
      ],
      "metadata": {
        "id": "icJEfYLf4InB"
      },
      "execution_count": 64,
      "outputs": []
    },
    {
      "cell_type": "code",
      "source": [
        "history = model.fit(X_train, y_train, epochs=30, validation_data=(X_valid, y_valid))"
      ],
      "metadata": {
        "colab": {
          "base_uri": "https://localhost:8080/"
        },
        "id": "WQpQ6JEe4KSQ",
        "outputId": "8488c906-71a9-4c5b-b1c0-9d329f03f190"
      },
      "execution_count": 65,
      "outputs": [
        {
          "output_type": "stream",
          "name": "stdout",
          "text": [
            "Epoch 1/30\n",
            "1719/1719 [==============================] - 7s 4ms/step - loss: 0.7367 - accuracy: 0.7599 - val_loss: 0.5416 - val_accuracy: 0.8156\n",
            "Epoch 2/30\n",
            "1719/1719 [==============================] - 5s 3ms/step - loss: 0.4966 - accuracy: 0.8277 - val_loss: 0.4487 - val_accuracy: 0.8510\n",
            "Epoch 3/30\n",
            "1719/1719 [==============================] - 6s 4ms/step - loss: 0.4489 - accuracy: 0.8424 - val_loss: 0.4107 - val_accuracy: 0.8588\n",
            "Epoch 4/30\n",
            "1719/1719 [==============================] - 7s 4ms/step - loss: 0.4203 - accuracy: 0.8519 - val_loss: 0.4067 - val_accuracy: 0.8594\n",
            "Epoch 5/30\n",
            "1719/1719 [==============================] - 6s 4ms/step - loss: 0.3992 - accuracy: 0.8603 - val_loss: 0.3850 - val_accuracy: 0.8630\n",
            "Epoch 6/30\n",
            "1719/1719 [==============================] - 10s 6ms/step - loss: 0.3833 - accuracy: 0.8640 - val_loss: 0.3750 - val_accuracy: 0.8700\n",
            "Epoch 7/30\n",
            "1719/1719 [==============================] - 6s 3ms/step - loss: 0.3691 - accuracy: 0.8696 - val_loss: 0.3562 - val_accuracy: 0.8734\n",
            "Epoch 8/30\n",
            "1719/1719 [==============================] - 6s 4ms/step - loss: 0.3584 - accuracy: 0.8729 - val_loss: 0.3556 - val_accuracy: 0.8758\n",
            "Epoch 9/30\n",
            "1719/1719 [==============================] - 8s 5ms/step - loss: 0.3464 - accuracy: 0.8763 - val_loss: 0.3441 - val_accuracy: 0.8786\n",
            "Epoch 10/30\n",
            "1719/1719 [==============================] - 10s 6ms/step - loss: 0.3372 - accuracy: 0.8805 - val_loss: 0.3497 - val_accuracy: 0.8778\n",
            "Epoch 11/30\n",
            "1719/1719 [==============================] - 8s 5ms/step - loss: 0.3291 - accuracy: 0.8825 - val_loss: 0.3401 - val_accuracy: 0.8828\n",
            "Epoch 12/30\n",
            "1719/1719 [==============================] - 6s 3ms/step - loss: 0.3198 - accuracy: 0.8848 - val_loss: 0.3294 - val_accuracy: 0.8828\n",
            "Epoch 13/30\n",
            "1719/1719 [==============================] - 6s 3ms/step - loss: 0.3122 - accuracy: 0.8890 - val_loss: 0.3371 - val_accuracy: 0.8844\n",
            "Epoch 14/30\n",
            "1719/1719 [==============================] - 5s 3ms/step - loss: 0.3058 - accuracy: 0.8905 - val_loss: 0.3262 - val_accuracy: 0.8848\n",
            "Epoch 15/30\n",
            "1719/1719 [==============================] - 7s 4ms/step - loss: 0.2999 - accuracy: 0.8928 - val_loss: 0.3337 - val_accuracy: 0.8812\n",
            "Epoch 16/30\n",
            "1719/1719 [==============================] - 5s 3ms/step - loss: 0.2936 - accuracy: 0.8940 - val_loss: 0.3163 - val_accuracy: 0.8902\n",
            "Epoch 17/30\n",
            "1719/1719 [==============================] - 8s 5ms/step - loss: 0.2873 - accuracy: 0.8963 - val_loss: 0.3162 - val_accuracy: 0.8872\n",
            "Epoch 18/30\n",
            "1719/1719 [==============================] - 6s 3ms/step - loss: 0.2816 - accuracy: 0.8994 - val_loss: 0.3077 - val_accuracy: 0.8946\n",
            "Epoch 19/30\n",
            "1719/1719 [==============================] - 6s 4ms/step - loss: 0.2760 - accuracy: 0.9006 - val_loss: 0.3185 - val_accuracy: 0.8870\n",
            "Epoch 20/30\n",
            "1719/1719 [==============================] - 7s 4ms/step - loss: 0.2717 - accuracy: 0.9023 - val_loss: 0.3049 - val_accuracy: 0.8936\n",
            "Epoch 21/30\n",
            "1719/1719 [==============================] - 6s 4ms/step - loss: 0.2666 - accuracy: 0.9049 - val_loss: 0.3033 - val_accuracy: 0.8962\n",
            "Epoch 22/30\n",
            "1719/1719 [==============================] - 5s 3ms/step - loss: 0.2605 - accuracy: 0.9061 - val_loss: 0.3077 - val_accuracy: 0.8910\n",
            "Epoch 23/30\n",
            "1719/1719 [==============================] - 7s 4ms/step - loss: 0.2563 - accuracy: 0.9078 - val_loss: 0.3431 - val_accuracy: 0.8816\n",
            "Epoch 24/30\n",
            "1719/1719 [==============================] - 5s 3ms/step - loss: 0.2514 - accuracy: 0.9099 - val_loss: 0.3084 - val_accuracy: 0.8920\n",
            "Epoch 25/30\n",
            "1719/1719 [==============================] - 6s 4ms/step - loss: 0.2465 - accuracy: 0.9121 - val_loss: 0.2957 - val_accuracy: 0.8950\n",
            "Epoch 26/30\n",
            "1719/1719 [==============================] - 5s 3ms/step - loss: 0.2423 - accuracy: 0.9131 - val_loss: 0.2987 - val_accuracy: 0.8934\n",
            "Epoch 27/30\n",
            "1719/1719 [==============================] - 6s 3ms/step - loss: 0.2395 - accuracy: 0.9133 - val_loss: 0.2953 - val_accuracy: 0.8966\n",
            "Epoch 28/30\n",
            "1719/1719 [==============================] - 6s 3ms/step - loss: 0.2350 - accuracy: 0.9152 - val_loss: 0.2916 - val_accuracy: 0.8984\n",
            "Epoch 29/30\n",
            "1719/1719 [==============================] - 10s 6ms/step - loss: 0.2316 - accuracy: 0.9175 - val_loss: 0.2969 - val_accuracy: 0.8940\n",
            "Epoch 30/30\n",
            "1719/1719 [==============================] - 5s 3ms/step - loss: 0.2273 - accuracy: 0.9188 - val_loss: 0.3095 - val_accuracy: 0.8890\n"
          ]
        }
      ]
    },
    {
      "cell_type": "code",
      "source": [
        "pd.DataFrame(history.history).plot(figsize=(8,5))\n",
        "plt.grid(True)\n",
        "plt.gca().set_ylim(0, 1)\n",
        "plt.show()"
      ],
      "metadata": {
        "colab": {
          "base_uri": "https://localhost:8080/",
          "height": 451
        },
        "id": "eBnRu3nQ4MA_",
        "outputId": "25ea6ea4-c04f-410a-b051-e4d33301e47f"
      },
      "execution_count": 66,
      "outputs": [
        {
          "output_type": "display_data",
          "data": {
            "text/plain": [
              "<Figure size 800x500 with 1 Axes>"
            ],
            "image/png": "[encoded data removed]"
          },
          "metadata": {}
        }
      ]
    },
    {
      "cell_type": "code",
      "source": [
        "model.evaluate(X_test, y_test)"
      ],
      "metadata": {
        "colab": {
          "base_uri": "https://localhost:8080/"
        },
        "id": "bZhggcgP4NZ8",
        "outputId": "f2780465-c4f0-4847-9bbb-9b25aa2446d0"
      },
      "execution_count": 67,
      "outputs": [
        {
          "output_type": "stream",
          "name": "stdout",
          "text": [
            "313/313 [==============================] - 1s 2ms/step - loss: 69.8861 - accuracy: 0.8428\n"
          ]
        },
        {
          "output_type": "execute_result",
          "data": {
            "text/plain": [
              "[69.88606262207031, 0.8428000211715698]"
            ]
          },
          "metadata": {},
          "execution_count": 67
        }
      ]
    },
    {
      "cell_type": "code",
      "source": [
        "X_new = X_test[:3]\n",
        "y_proba = model.predict(X_new)\n",
        "y_proba.round(2)"
      ],
      "metadata": {
        "colab": {
          "base_uri": "https://localhost:8080/"
        },
        "id": "4j3HsV1a4PUH",
        "outputId": "59a3264d-6755-44c8-9c8c-b8f6b74a5bae"
      },
      "execution_count": 68,
      "outputs": [
        {
          "output_type": "stream",
          "name": "stderr",
          "text": [
            "WARNING:tensorflow:5 out of the last 5 calls to <function Model.make_predict_function.<locals>.predict_function at 0x7fa86cca6170> triggered tf.function retracing. Tracing is expensive and the excessive number of tracings could be due to (1) creating @tf.function repeatedly in a loop, (2) passing tensors with different shapes, (3) passing Python objects instead of tensors. For (1), please define your @tf.function outside of the loop. For (2), @tf.function has reduce_retracing=True option that can avoid unnecessary retracing. For (3), please refer to https://www.tensorflow.org/guide/function#controlling_retracing and https://www.tensorflow.org/api_docs/python/tf/function for  more details.\n"
          ]
        },
        {
          "output_type": "stream",
          "name": "stdout",
          "text": [
            "1/1 [==============================] - 0s 58ms/step\n"
          ]
        },
        {
          "output_type": "execute_result",
          "data": {
            "text/plain": [
              "array([[0., 0., 0., 0., 0., 0., 0., 0., 0., 1.],\n",
              "       [0., 0., 1., 0., 0., 0., 0., 0., 0., 0.],\n",
              "       [0., 1., 0., 0., 0., 0., 0., 0., 0., 0.]], dtype=float32)"
            ]
          },
          "metadata": {},
          "execution_count": 68
        }
      ]
    },
    {
      "cell_type": "markdown",
      "source": [
        "## Regresión"
      ],
      "metadata": {
        "id": "5jP1aCWh4P4r"
      }
    },
    {
      "cell_type": "code",
      "source": [
        "housing = fetch_california_housing()"
      ],
      "metadata": {
        "id": "6axQxVcf4Pn3"
      },
      "execution_count": 69,
      "outputs": []
    },
    {
      "cell_type": "code",
      "source": [
        "pd.DataFrame(housing.data, columns=housing.feature_names).head()"
      ],
      "metadata": {
        "colab": {
          "base_uri": "https://localhost:8080/",
          "height": 206
        },
        "id": "_IVQdd0V657B",
        "outputId": "6af1c558-0246-40a0-b42c-a941267ee180"
      },
      "execution_count": 80,
      "outputs": [
        {
          "output_type": "execute_result",
          "data": {
            "text/plain": [
              "   MedInc  HouseAge  AveRooms  AveBedrms  Population  AveOccup  Latitude  \\\n",
              "0  8.3252      41.0  6.984127   1.023810       322.0  2.555556     37.88   \n",
              "1  8.3014      21.0  6.238137   0.971880      2401.0  2.109842     37.86   \n",
              "2  7.2574      52.0  8.288136   1.073446       496.0  2.802260     37.85   \n",
              "3  5.6431      52.0  5.817352   1.073059       558.0  2.547945     37.85   \n",
              "4  3.8462      52.0  6.281853   1.081081       565.0  2.181467     37.85   \n",
              "\n",
              "   Longitude  \n",
              "0    -122.23  \n",
              "1    -122.22  \n",
              "2    -122.24  \n",
              "3    -122.25  \n",
              "4    -122.25  "
            ],
            "text/html": [
              "\n",
              "  <div id=\"df-abefd04f-a380-4e02-968e-444c6fc3e79b\">\n",
              "    <div class=\"colab-df-container\">\n",
              "      <div>\n",
              "<style scoped>\n",
              "    .dataframe tbody tr th:only-of-type {\n",
              "        vertical-align: middle;\n",
              "    }\n",
              "\n",
              "    .dataframe tbody tr th {\n",
              "        vertical-align: top;\n",
              "    }\n",
              "\n",
              "    .dataframe thead th {\n",
              "        text-align: right;\n",
              "    }\n",
              "</style>\n",
              "<table border=\"1\" class=\"dataframe\">\n",
              "  <thead>\n",
              "    <tr style=\"text-align: right;\">\n",
              "      <th></th>\n",
              "      <th>MedInc</th>\n",
              "      <th>HouseAge</th>\n",
              "      <th>AveRooms</th>\n",
              "      <th>AveBedrms</th>\n",
              "      <th>Population</th>\n",
              "      <th>AveOccup</th>\n",
              "      <th>Latitude</th>\n",
              "      <th>Longitude</th>\n",
              "    </tr>\n",
              "  </thead>\n",
              "  <tbody>\n",
              "    <tr>\n",
              "      <th>0</th>\n",
              "      <td>8.3252</td>\n",
              "      <td>41.0</td>\n",
              "      <td>6.984127</td>\n",
              "      <td>1.023810</td>\n",
              "      <td>322.0</td>\n",
              "      <td>2.555556</td>\n",
              "      <td>37.88</td>\n",
              "      <td>-122.23</td>\n",
              "    </tr>\n",
              "    <tr>\n",
              "      <th>1</th>\n",
              "      <td>8.3014</td>\n",
              "      <td>21.0</td>\n",
              "      <td>6.238137</td>\n",
              "      <td>0.971880</td>\n",
              "      <td>2401.0</td>\n",
              "      <td>2.109842</td>\n",
              "      <td>37.86</td>\n",
              "      <td>-122.22</td>\n",
              "    </tr>\n",
              "    <tr>\n",
              "      <th>2</th>\n",
              "      <td>7.2574</td>\n",
              "      <td>52.0</td>\n",
              "      <td>8.288136</td>\n",
              "      <td>1.073446</td>\n",
              "      <td>496.0</td>\n",
              "      <td>2.802260</td>\n",
              "      <td>37.85</td>\n",
              "      <td>-122.24</td>\n",
              "    </tr>\n",
              "    <tr>\n",
              "      <th>3</th>\n",
              "      <td>5.6431</td>\n",
              "      <td>52.0</td>\n",
              "      <td>5.817352</td>\n",
              "      <td>1.073059</td>\n",
              "      <td>558.0</td>\n",
              "      <td>2.547945</td>\n",
              "      <td>37.85</td>\n",
              "      <td>-122.25</td>\n",
              "    </tr>\n",
              "    <tr>\n",
              "      <th>4</th>\n",
              "      <td>3.8462</td>\n",
              "      <td>52.0</td>\n",
              "      <td>6.281853</td>\n",
              "      <td>1.081081</td>\n",
              "      <td>565.0</td>\n",
              "      <td>2.181467</td>\n",
              "      <td>37.85</td>\n",
              "      <td>-122.25</td>\n",
              "    </tr>\n",
              "  </tbody>\n",
              "</table>\n",
              "</div>\n",
              "      <button class=\"colab-df-convert\" onclick=\"convertToInteractive('df-abefd04f-a380-4e02-968e-444c6fc3e79b')\"\n",
              "              title=\"Convert this dataframe to an interactive table.\"\n",
              "              style=\"display:none;\">\n",
              "        \n",
              "  <svg xmlns=\"http://www.w3.org/2000/svg\" height=\"24px\"viewBox=\"0 0 24 24\"\n",
              "       width=\"24px\">\n",
              "    <path d=\"M0 0h24v24H0V0z\" fill=\"none\"/>\n",
              "    <path d=\"M18.56 5.44l.94 2.06.94-2.06 2.06-.94-2.06-.94-.94-2.06-.94 2.06-2.06.94zm-11 1L8.5 8.5l.94-2.06 2.06-.94-2.06-.94L8.5 2.5l-.94 2.06-2.06.94zm10 10l.94 2.06.94-2.06 2.06-.94-2.06-.94-.94-2.06-.94 2.06-2.06.94z\"/><path d=\"M17.41 7.96l-1.37-1.37c-.4-.4-.92-.59-1.43-.59-.52 0-1.04.2-1.43.59L10.3 9.45l-7.72 7.72c-.78.78-.78 2.05 0 2.83L4 21.41c.39.39.9.59 1.41.59.51 0 1.02-.2 1.41-.59l7.78-7.78 2.81-2.81c.8-.78.8-2.07 0-2.86zM5.41 20L4 18.59l7.72-7.72 1.47 1.35L5.41 20z\"/>\n",
              "  </svg>\n",
              "      </button>\n",
              "      \n",
              "  <style>\n",
              "    .colab-df-container {\n",
              "      display:flex;\n",
              "      flex-wrap:wrap;\n",
              "      gap: 12px;\n",
              "    }\n",
              "\n",
              "    .colab-df-convert {\n",
              "      background-color: #E8F0FE;\n",
              "      border: none;\n",
              "      border-radius: 50%;\n",
              "      cursor: pointer;\n",
              "      display: none;\n",
              "      fill: #1967D2;\n",
              "      height: 32px;\n",
              "      padding: 0 0 0 0;\n",
              "      width: 32px;\n",
              "    }\n",
              "\n",
              "    .colab-df-convert:hover {\n",
              "      background-color: #E2EBFA;\n",
              "      box-shadow: 0px 1px 2px rgba(60, 64, 67, 0.3), 0px 1px 3px 1px rgba(60, 64, 67, 0.15);\n",
              "      fill: #174EA6;\n",
              "    }\n",
              "\n",
              "    [theme=dark] .colab-df-convert {\n",
              "      background-color: #3B4455;\n",
              "      fill: #D2E3FC;\n",
              "    }\n",
              "\n",
              "    [theme=dark] .colab-df-convert:hover {\n",
              "      background-color: #434B5C;\n",
              "      box-shadow: 0px 1px 3px 1px rgba(0, 0, 0, 0.15);\n",
              "      filter: drop-shadow(0px 1px 2px rgba(0, 0, 0, 0.3));\n",
              "      fill: #FFFFFF;\n",
              "    }\n",
              "  </style>\n",
              "\n",
              "      <script>\n",
              "        const buttonEl =\n",
              "          document.querySelector('#df-abefd04f-a380-4e02-968e-444c6fc3e79b button.colab-df-convert');\n",
              "        buttonEl.style.display =\n",
              "          google.colab.kernel.accessAllowed ? 'block' : 'none';\n",
              "\n",
              "        async function convertToInteractive(key) {\n",
              "          const element = document.querySelector('#df-abefd04f-a380-4e02-968e-444c6fc3e79b');\n",
              "          const dataTable =\n",
              "            await google.colab.kernel.invokeFunction('convertToInteractive',\n",
              "                                                     [key], {});\n",
              "          if (!dataTable) return;\n",
              "\n",
              "          const docLinkHtml = 'Like what you see? Visit the ' +\n",
              "            '<a target=\"_blank\" href=https://colab.research.google.com/notebooks/data_table.ipynb>data table notebook</a>'\n",
              "            + ' to learn more about interactive tables.';\n",
              "          element.innerHTML = '';\n",
              "          dataTable['output_type'] = 'display_data';\n",
              "          await google.colab.output.renderOutput(dataTable, element);\n",
              "          const docLink = document.createElement('div');\n",
              "          docLink.innerHTML = docLinkHtml;\n",
              "          element.appendChild(docLink);\n",
              "        }\n",
              "      </script>\n",
              "    </div>\n",
              "  </div>\n",
              "  "
            ]
          },
          "metadata": {},
          "execution_count": 80
        }
      ]
    },
    {
      "cell_type": "code",
      "source": [
        "X_train_full, X_test, y_train_full, y_test = train_test_split(\n",
        " housing.data, housing.target)\n",
        "\n",
        "X_train, X_valid, y_train, y_valid = train_test_split(\n",
        " X_train_full, y_train_full)\n",
        "\n",
        "scaler = StandardScaler()\n",
        "X_train = scaler.fit_transform(X_train)\n",
        "X_valid = scaler.transform(X_valid)\n",
        "X_test = scaler.transform(X_test)"
      ],
      "metadata": {
        "id": "jvhAs_Yg62gO"
      },
      "execution_count": 83,
      "outputs": []
    },
    {
      "cell_type": "code",
      "source": [
        "model = keras.models.Sequential([\n",
        " keras.layers.Dense(30, activation=\"relu\", input_shape=X_train.shape[1:]),\n",
        " keras.layers.Dense(1)\n",
        "])\n",
        "model.compile(loss=\"mean_squared_error\", optimizer=\"sgd\")"
      ],
      "metadata": {
        "id": "BDUxGvuQ4Trn"
      },
      "execution_count": 84,
      "outputs": []
    },
    {
      "cell_type": "code",
      "source": [
        "history = model.fit(X_train, y_train, epochs=20,\n",
        " validation_data=(X_valid, y_valid))"
      ],
      "metadata": {
        "colab": {
          "base_uri": "https://localhost:8080/"
        },
        "id": "09U5GIhx6MJ4",
        "outputId": "98898f21-a604-4e8f-e80c-c7d0cf2d7aa1"
      },
      "execution_count": 85,
      "outputs": [
        {
          "output_type": "stream",
          "name": "stdout",
          "text": [
            "Epoch 1/20\n",
            "363/363 [==============================] - 2s 3ms/step - loss: 0.9685 - val_loss: 0.6066\n",
            "Epoch 2/20\n",
            "363/363 [==============================] - 1s 3ms/step - loss: 1.1097 - val_loss: 0.4918\n",
            "Epoch 3/20\n",
            "363/363 [==============================] - 2s 5ms/step - loss: 0.4749 - val_loss: 0.4034\n",
            "Epoch 4/20\n",
            "363/363 [==============================] - 1s 4ms/step - loss: 0.4235 - val_loss: 0.3766\n",
            "Epoch 5/20\n",
            "363/363 [==============================] - 1s 3ms/step - loss: 0.4059 - val_loss: 0.3670\n",
            "Epoch 6/20\n",
            "363/363 [==============================] - 1s 3ms/step - loss: 0.3921 - val_loss: 0.3646\n",
            "Epoch 7/20\n",
            "363/363 [==============================] - 1s 3ms/step - loss: 0.3827 - val_loss: 0.3583\n",
            "Epoch 8/20\n",
            "363/363 [==============================] - 1s 3ms/step - loss: 0.3766 - val_loss: 0.3515\n",
            "Epoch 9/20\n",
            "363/363 [==============================] - 1s 3ms/step - loss: 0.3721 - val_loss: 0.3477\n",
            "Epoch 10/20\n",
            "363/363 [==============================] - 1s 3ms/step - loss: 0.3674 - val_loss: 0.3517\n",
            "Epoch 11/20\n",
            "363/363 [==============================] - 1s 3ms/step - loss: 0.3638 - val_loss: 0.3428\n",
            "Epoch 12/20\n",
            "363/363 [==============================] - 2s 4ms/step - loss: 0.3608 - val_loss: 0.3980\n",
            "Epoch 13/20\n",
            "363/363 [==============================] - 2s 4ms/step - loss: 0.3609 - val_loss: 0.3390\n",
            "Epoch 14/20\n",
            "363/363 [==============================] - 1s 3ms/step - loss: 0.3614 - val_loss: 0.3332\n",
            "Epoch 15/20\n",
            "363/363 [==============================] - 1s 4ms/step - loss: 0.3547 - val_loss: 0.3397\n",
            "Epoch 16/20\n",
            "363/363 [==============================] - 1s 3ms/step - loss: 0.3498 - val_loss: 0.3311\n",
            "Epoch 17/20\n",
            "363/363 [==============================] - 1s 3ms/step - loss: 0.3474 - val_loss: 0.3282\n",
            "Epoch 18/20\n",
            "363/363 [==============================] - 1s 3ms/step - loss: 0.3465 - val_loss: 0.3282\n",
            "Epoch 19/20\n",
            "363/363 [==============================] - 1s 3ms/step - loss: 0.3483 - val_loss: 0.3290\n",
            "Epoch 20/20\n",
            "363/363 [==============================] - 1s 4ms/step - loss: 0.3428 - val_loss: 0.3258\n"
          ]
        }
      ]
    },
    {
      "cell_type": "code",
      "source": [
        "pd.DataFrame(history.history).plot(figsize=(8,5))\n",
        "plt.grid(True)\n",
        "plt.show()"
      ],
      "metadata": {
        "colab": {
          "base_uri": "https://localhost:8080/",
          "height": 445
        },
        "id": "gPPzy1xx7P8l",
        "outputId": "bc746503-57cd-4016-e2a2-3a4b077d436e"
      },
      "execution_count": 87,
      "outputs": [
        {
          "output_type": "display_data",
          "data": {
            "text/plain": [
              "<Figure size 800x500 with 1 Axes>"
            ],
            "image/png": "[encoded data removed]"
          },
          "metadata": {}
        }
      ]
    },
    {
      "cell_type": "code",
      "source": [
        "mse_test = model.evaluate(X_test, y_test)\n",
        "X_new = X_test[:3] \n",
        "y_pred = model.predict(X_new)"
      ],
      "metadata": {
        "id": "1VCnDNss7T8h"
      },
      "execution_count": null,
      "outputs": []
    }
  ]
}