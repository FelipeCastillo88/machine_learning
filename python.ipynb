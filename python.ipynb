{
  "nbformat": 4,
  "nbformat_minor": 0,
  "metadata": {
    "colab": {
      "provenance": []
    },
    "kernelspec": {
      "name": "python3",
      "display_name": "Python 3"
    },
    "language_info": {
      "name": "python"
    }
  },
  "cells": [
    {
      "cell_type": "markdown",
      "source": [
        "# Python\n",
        "\n",
        "1. Introducción a python\n",
        "2. Rudimentos de python\n",
        "3. Conceptos intermedios de python"
      ],
      "metadata": {
        "id": "G5G1Ql0rSSu6"
      }
    },
    {
      "cell_type": "markdown",
      "source": [
        "## Introducción a python\n",
        "\n",
        "1. Operadores aritméticos\n",
        "2. Operadores de comparación\n",
        "3. Operadores lógicos\n",
        "4. Variables\n",
        "5. Operadores de asignación\n",
        "6. Tipos de datos\n",
        "7. Estructuras de datos\n"
      ],
      "metadata": {
        "id": "IAfwYp9uSZHO"
      }
    },
    {
      "cell_type": "markdown",
      "source": [
        "### Operadores aritméticos"
      ],
      "metadata": {
        "id": "MOtd6w4bTNvW"
      }
    },
    {
      "cell_type": "code",
      "source": [
        " 4 + 6"
      ],
      "metadata": {
        "colab": {
          "base_uri": "https://localhost:8080/"
        },
        "id": "vpHY242EUfys",
        "outputId": "b80165e8-39c9-4c41-93de-a94fbd259ab3"
      },
      "execution_count": 1,
      "outputs": [
        {
          "output_type": "execute_result",
          "data": {
            "text/plain": [
              "10"
            ]
          },
          "metadata": {},
          "execution_count": 1
        }
      ]
    },
    {
      "cell_type": "code",
      "source": [
        "7 - 2"
      ],
      "metadata": {
        "colab": {
          "base_uri": "https://localhost:8080/"
        },
        "id": "caC7PxcyUfvB",
        "outputId": "1c5c33f6-4a3e-4f0f-b8aa-791d37f9b0a6"
      },
      "execution_count": 2,
      "outputs": [
        {
          "output_type": "execute_result",
          "data": {
            "text/plain": [
              "5"
            ]
          },
          "metadata": {},
          "execution_count": 2
        }
      ]
    },
    {
      "cell_type": "code",
      "source": [
        "4 * 2"
      ],
      "metadata": {
        "colab": {
          "base_uri": "https://localhost:8080/"
        },
        "id": "L_Tne7zDUfp8",
        "outputId": "db0c96be-425a-413f-843d-ade8050f9de0"
      },
      "execution_count": 3,
      "outputs": [
        {
          "output_type": "execute_result",
          "data": {
            "text/plain": [
              "8"
            ]
          },
          "metadata": {},
          "execution_count": 3
        }
      ]
    },
    {
      "cell_type": "code",
      "source": [
        "4 / 2"
      ],
      "metadata": {
        "colab": {
          "base_uri": "https://localhost:8080/"
        },
        "id": "Pp40VcqKUflM",
        "outputId": "8765d0a7-ab35-4ba7-e3e3-841633101509"
      },
      "execution_count": 4,
      "outputs": [
        {
          "output_type": "execute_result",
          "data": {
            "text/plain": [
              "2.0"
            ]
          },
          "metadata": {},
          "execution_count": 4
        }
      ]
    },
    {
      "cell_type": "code",
      "source": [
        "7 % 2"
      ],
      "metadata": {
        "colab": {
          "base_uri": "https://localhost:8080/"
        },
        "id": "P9HpMvPZUfgQ",
        "outputId": "0ac46135-0743-4b78-984b-5136718990a0"
      },
      "execution_count": 5,
      "outputs": [
        {
          "output_type": "execute_result",
          "data": {
            "text/plain": [
              "1"
            ]
          },
          "metadata": {},
          "execution_count": 5
        }
      ]
    },
    {
      "cell_type": "code",
      "source": [
        "7 // 2"
      ],
      "metadata": {
        "colab": {
          "base_uri": "https://localhost:8080/"
        },
        "id": "YhqDwBhNUfbh",
        "outputId": "f3c922fe-6a63-4b2d-82c2-40f390335fa9"
      },
      "execution_count": 6,
      "outputs": [
        {
          "output_type": "execute_result",
          "data": {
            "text/plain": [
              "3"
            ]
          },
          "metadata": {},
          "execution_count": 6
        }
      ]
    },
    {
      "cell_type": "code",
      "source": [
        "4 ** 2"
      ],
      "metadata": {
        "colab": {
          "base_uri": "https://localhost:8080/"
        },
        "id": "A-bpY0xFU4Da",
        "outputId": "261b5779-4c69-4dbc-fd5c-6cfec5bcc534"
      },
      "execution_count": 7,
      "outputs": [
        {
          "output_type": "execute_result",
          "data": {
            "text/plain": [
              "16"
            ]
          },
          "metadata": {},
          "execution_count": 7
        }
      ]
    },
    {
      "cell_type": "markdown",
      "source": [
        "### Operadores de comparación"
      ],
      "metadata": {
        "id": "IVtXxF4-TPoh"
      }
    },
    {
      "cell_type": "code",
      "source": [
        "4 > 5"
      ],
      "metadata": {
        "colab": {
          "base_uri": "https://localhost:8080/"
        },
        "id": "nJ_YpZ03Ugdb",
        "outputId": "db1d254a-f09a-4e7b-d73c-5ba9242ef76f"
      },
      "execution_count": 8,
      "outputs": [
        {
          "output_type": "execute_result",
          "data": {
            "text/plain": [
              "False"
            ]
          },
          "metadata": {},
          "execution_count": 8
        }
      ]
    },
    {
      "cell_type": "code",
      "source": [
        "4 < 4"
      ],
      "metadata": {
        "colab": {
          "base_uri": "https://localhost:8080/"
        },
        "id": "vBGEFNkVUgY2",
        "outputId": "d1c8ec1b-1795-4a5d-af35-ffb8b87c7dc8"
      },
      "execution_count": 9,
      "outputs": [
        {
          "output_type": "execute_result",
          "data": {
            "text/plain": [
              "False"
            ]
          },
          "metadata": {},
          "execution_count": 9
        }
      ]
    },
    {
      "cell_type": "code",
      "source": [
        "4 >= 4"
      ],
      "metadata": {
        "colab": {
          "base_uri": "https://localhost:8080/"
        },
        "id": "xZk3QhLSUgTw",
        "outputId": "0d9c1e3d-8398-4bfa-97c4-701390c625f8"
      },
      "execution_count": 10,
      "outputs": [
        {
          "output_type": "execute_result",
          "data": {
            "text/plain": [
              "True"
            ]
          },
          "metadata": {},
          "execution_count": 10
        }
      ]
    },
    {
      "cell_type": "code",
      "source": [
        "4 <= 2 "
      ],
      "metadata": {
        "colab": {
          "base_uri": "https://localhost:8080/"
        },
        "id": "8DrmlSKyUgPL",
        "outputId": "2677ac94-30fd-44e1-9f71-3379e78abbc4"
      },
      "execution_count": 11,
      "outputs": [
        {
          "output_type": "execute_result",
          "data": {
            "text/plain": [
              "False"
            ]
          },
          "metadata": {},
          "execution_count": 11
        }
      ]
    },
    {
      "cell_type": "code",
      "source": [
        "4 == 2"
      ],
      "metadata": {
        "colab": {
          "base_uri": "https://localhost:8080/"
        },
        "id": "AY77E2CjU_uV",
        "outputId": "fd119eaa-dc3c-463c-8f0d-b2581d161c5e"
      },
      "execution_count": 12,
      "outputs": [
        {
          "output_type": "execute_result",
          "data": {
            "text/plain": [
              "False"
            ]
          },
          "metadata": {},
          "execution_count": 12
        }
      ]
    },
    {
      "cell_type": "code",
      "source": [
        "4 != 1"
      ],
      "metadata": {
        "colab": {
          "base_uri": "https://localhost:8080/"
        },
        "id": "nQU1sa4TU_LZ",
        "outputId": "df7086cb-2067-437c-eb62-231b99d9f526"
      },
      "execution_count": 13,
      "outputs": [
        {
          "output_type": "execute_result",
          "data": {
            "text/plain": [
              "True"
            ]
          },
          "metadata": {},
          "execution_count": 13
        }
      ]
    },
    {
      "cell_type": "markdown",
      "source": [
        "### Operadores lógicos"
      ],
      "metadata": {
        "id": "DcXfxrD4TQey"
      }
    },
    {
      "cell_type": "code",
      "source": [
        "True and True"
      ],
      "metadata": {
        "colab": {
          "base_uri": "https://localhost:8080/"
        },
        "id": "q2QTrCMMUhXQ",
        "outputId": "72775518-d8c4-4172-d6a2-9a159079e028"
      },
      "execution_count": 14,
      "outputs": [
        {
          "output_type": "execute_result",
          "data": {
            "text/plain": [
              "True"
            ]
          },
          "metadata": {},
          "execution_count": 14
        }
      ]
    },
    {
      "cell_type": "code",
      "source": [
        "False and True"
      ],
      "metadata": {
        "colab": {
          "base_uri": "https://localhost:8080/"
        },
        "id": "rpfF5YtvUhSq",
        "outputId": "90b41782-70ba-452d-d977-5d9cec3729ed"
      },
      "execution_count": 15,
      "outputs": [
        {
          "output_type": "execute_result",
          "data": {
            "text/plain": [
              "False"
            ]
          },
          "metadata": {},
          "execution_count": 15
        }
      ]
    },
    {
      "cell_type": "code",
      "source": [
        "True and False"
      ],
      "metadata": {
        "colab": {
          "base_uri": "https://localhost:8080/"
        },
        "id": "ZAnmxZ7NVFAK",
        "outputId": "9e815a8f-e932-4de9-820a-59f1f43c359a"
      },
      "execution_count": 16,
      "outputs": [
        {
          "output_type": "execute_result",
          "data": {
            "text/plain": [
              "False"
            ]
          },
          "metadata": {},
          "execution_count": 16
        }
      ]
    },
    {
      "cell_type": "code",
      "source": [
        "False and False"
      ],
      "metadata": {
        "colab": {
          "base_uri": "https://localhost:8080/"
        },
        "id": "07i_gxsoVE9X",
        "outputId": "4eddc523-dbdf-4753-a62d-2fbd711abb44"
      },
      "execution_count": 17,
      "outputs": [
        {
          "output_type": "execute_result",
          "data": {
            "text/plain": [
              "False"
            ]
          },
          "metadata": {},
          "execution_count": 17
        }
      ]
    },
    {
      "cell_type": "code",
      "source": [
        "True or True"
      ],
      "metadata": {
        "colab": {
          "base_uri": "https://localhost:8080/"
        },
        "id": "LgM-EzVYVE6Z",
        "outputId": "fb33d342-6026-4280-d5ba-a8ebb86c6d42"
      },
      "execution_count": 18,
      "outputs": [
        {
          "output_type": "execute_result",
          "data": {
            "text/plain": [
              "True"
            ]
          },
          "metadata": {},
          "execution_count": 18
        }
      ]
    },
    {
      "cell_type": "code",
      "source": [
        "True or False"
      ],
      "metadata": {
        "colab": {
          "base_uri": "https://localhost:8080/"
        },
        "id": "W1AZzTXSUhNP",
        "outputId": "563d8ce1-7d25-4474-e267-7e0c0800281c"
      },
      "execution_count": 19,
      "outputs": [
        {
          "output_type": "execute_result",
          "data": {
            "text/plain": [
              "True"
            ]
          },
          "metadata": {},
          "execution_count": 19
        }
      ]
    },
    {
      "cell_type": "code",
      "source": [
        "False or True"
      ],
      "metadata": {
        "colab": {
          "base_uri": "https://localhost:8080/"
        },
        "id": "iFsmSGiUVNwk",
        "outputId": "b513c406-d11c-494c-e0d5-069d0d737f2d"
      },
      "execution_count": 20,
      "outputs": [
        {
          "output_type": "execute_result",
          "data": {
            "text/plain": [
              "True"
            ]
          },
          "metadata": {},
          "execution_count": 20
        }
      ]
    },
    {
      "cell_type": "code",
      "source": [
        "False or False"
      ],
      "metadata": {
        "colab": {
          "base_uri": "https://localhost:8080/"
        },
        "id": "auC8Z3mIVNuo",
        "outputId": "b2e3c5af-5cdb-4764-d30f-fd0ce7655256"
      },
      "execution_count": 21,
      "outputs": [
        {
          "output_type": "execute_result",
          "data": {
            "text/plain": [
              "False"
            ]
          },
          "metadata": {},
          "execution_count": 21
        }
      ]
    },
    {
      "cell_type": "code",
      "source": [
        "not True"
      ],
      "metadata": {
        "colab": {
          "base_uri": "https://localhost:8080/"
        },
        "id": "Js_Q6XD4VNss",
        "outputId": "8de23154-4e23-474e-cbf5-8bcaf8e6ab4d"
      },
      "execution_count": 22,
      "outputs": [
        {
          "output_type": "execute_result",
          "data": {
            "text/plain": [
              "False"
            ]
          },
          "metadata": {},
          "execution_count": 22
        }
      ]
    },
    {
      "cell_type": "code",
      "source": [
        "not False"
      ],
      "metadata": {
        "colab": {
          "base_uri": "https://localhost:8080/"
        },
        "id": "lR4gHzY8VNq-",
        "outputId": "31417197-b79f-468a-f7c8-b445a2ae502a"
      },
      "execution_count": 23,
      "outputs": [
        {
          "output_type": "execute_result",
          "data": {
            "text/plain": [
              "True"
            ]
          },
          "metadata": {},
          "execution_count": 23
        }
      ]
    },
    {
      "cell_type": "markdown",
      "source": [
        "### Variables"
      ],
      "metadata": {
        "id": "QaiiFfiuTQYc"
      }
    },
    {
      "cell_type": "code",
      "source": [
        "x = 4\n",
        "x"
      ],
      "metadata": {
        "colab": {
          "base_uri": "https://localhost:8080/"
        },
        "id": "PRXQE1hIUiKb",
        "outputId": "69002269-583e-4985-d945-69f232b6a88b"
      },
      "execution_count": 24,
      "outputs": [
        {
          "output_type": "execute_result",
          "data": {
            "text/plain": [
              "4"
            ]
          },
          "metadata": {},
          "execution_count": 24
        }
      ]
    },
    {
      "cell_type": "code",
      "source": [
        "x + 5"
      ],
      "metadata": {
        "colab": {
          "base_uri": "https://localhost:8080/"
        },
        "id": "sKQdSe7lUiqO",
        "outputId": "5b3b8f38-8476-4d0b-fa85-617fc090dc97"
      },
      "execution_count": 25,
      "outputs": [
        {
          "output_type": "execute_result",
          "data": {
            "text/plain": [
              "9"
            ]
          },
          "metadata": {},
          "execution_count": 25
        }
      ]
    },
    {
      "cell_type": "code",
      "source": [
        "y = 2"
      ],
      "metadata": {
        "id": "my3iJ6a0Ui9x"
      },
      "execution_count": 26,
      "outputs": []
    },
    {
      "cell_type": "code",
      "source": [
        "x + y"
      ],
      "metadata": {
        "colab": {
          "base_uri": "https://localhost:8080/"
        },
        "id": "vo1EXvS0VWD0",
        "outputId": "3c63b0f9-7a99-4b41-e0f3-424630a6f3c7"
      },
      "execution_count": 27,
      "outputs": [
        {
          "output_type": "execute_result",
          "data": {
            "text/plain": [
              "6"
            ]
          },
          "metadata": {},
          "execution_count": 27
        }
      ]
    },
    {
      "cell_type": "code",
      "source": [
        "x > 2"
      ],
      "metadata": {
        "colab": {
          "base_uri": "https://localhost:8080/"
        },
        "id": "cy4fsIOXVWpe",
        "outputId": "042b034d-1559-4ec9-fe12-22107458242d"
      },
      "execution_count": 28,
      "outputs": [
        {
          "output_type": "execute_result",
          "data": {
            "text/plain": [
              "True"
            ]
          },
          "metadata": {},
          "execution_count": 28
        }
      ]
    },
    {
      "cell_type": "code",
      "source": [
        "z"
      ],
      "metadata": {
        "colab": {
          "base_uri": "https://localhost:8080/",
          "height": 169
        },
        "id": "2ygdwJEIVdwh",
        "outputId": "4b29adf9-81f7-4d25-c1b2-b550e4a38b40"
      },
      "execution_count": 29,
      "outputs": [
        {
          "output_type": "error",
          "ename": "NameError",
          "evalue": "ignored",
          "traceback": [
            "\u001b[0;31m---------------------------------------------------------------------------\u001b[0m",
            "\u001b[0;31mNameError\u001b[0m                                 Traceback (most recent call last)",
            "\u001b[0;32m<ipython-input-29-3a710d2a84f8>\u001b[0m in \u001b[0;36m<module>\u001b[0;34m\u001b[0m\n\u001b[0;32m----> 1\u001b[0;31m \u001b[0mz\u001b[0m\u001b[0;34m\u001b[0m\u001b[0;34m\u001b[0m\u001b[0m\n\u001b[0m",
            "\u001b[0;31mNameError\u001b[0m: name 'z' is not defined"
          ]
        }
      ]
    },
    {
      "cell_type": "markdown",
      "source": [
        "### Operadores de asignación"
      ],
      "metadata": {
        "id": "LCQKJ9iUTQMf"
      }
    },
    {
      "cell_type": "code",
      "source": [
        "x += 5"
      ],
      "metadata": {
        "id": "CncTKFp8UkoF"
      },
      "execution_count": 30,
      "outputs": []
    },
    {
      "cell_type": "code",
      "source": [
        "x -= 4"
      ],
      "metadata": {
        "id": "LMVhivMdUkhc"
      },
      "execution_count": 31,
      "outputs": []
    },
    {
      "cell_type": "code",
      "source": [
        "x *= y"
      ],
      "metadata": {
        "id": "_zJck_iPUkaw"
      },
      "execution_count": 32,
      "outputs": []
    },
    {
      "cell_type": "code",
      "source": [
        "x /= y"
      ],
      "metadata": {
        "id": "EoHwnbtCUjex"
      },
      "execution_count": 33,
      "outputs": []
    },
    {
      "cell_type": "code",
      "source": [
        "x"
      ],
      "metadata": {
        "colab": {
          "base_uri": "https://localhost:8080/"
        },
        "id": "0BTvCfNnVh3_",
        "outputId": "8c087a3a-1b44-4369-d68a-aa8e6db640ee"
      },
      "execution_count": 34,
      "outputs": [
        {
          "output_type": "execute_result",
          "data": {
            "text/plain": [
              "5.0"
            ]
          },
          "metadata": {},
          "execution_count": 34
        }
      ]
    },
    {
      "cell_type": "markdown",
      "source": [
        "### Tipos de datos"
      ],
      "metadata": {
        "id": "VjpqllX8TP9W"
      }
    },
    {
      "cell_type": "code",
      "source": [
        "type(5)"
      ],
      "metadata": {
        "colab": {
          "base_uri": "https://localhost:8080/"
        },
        "id": "b8_VVIgCUl2z",
        "outputId": "5b0fbd53-e65e-4f41-97d9-6dddbcb15634"
      },
      "execution_count": 35,
      "outputs": [
        {
          "output_type": "execute_result",
          "data": {
            "text/plain": [
              "int"
            ]
          },
          "metadata": {},
          "execution_count": 35
        }
      ]
    },
    {
      "cell_type": "code",
      "source": [
        "type(4.5)"
      ],
      "metadata": {
        "colab": {
          "base_uri": "https://localhost:8080/"
        },
        "id": "bIkihaMXUlxX",
        "outputId": "458ad67d-8c83-4434-d5f9-425ae866a011"
      },
      "execution_count": 36,
      "outputs": [
        {
          "output_type": "execute_result",
          "data": {
            "text/plain": [
              "float"
            ]
          },
          "metadata": {},
          "execution_count": 36
        }
      ]
    },
    {
      "cell_type": "code",
      "source": [
        "type(\"Hola\")"
      ],
      "metadata": {
        "colab": {
          "base_uri": "https://localhost:8080/"
        },
        "id": "kb7Ii2ibUlrn",
        "outputId": "4a4781ac-b373-46cf-cedd-a782e56cec0a"
      },
      "execution_count": 37,
      "outputs": [
        {
          "output_type": "execute_result",
          "data": {
            "text/plain": [
              "str"
            ]
          },
          "metadata": {},
          "execution_count": 37
        }
      ]
    },
    {
      "cell_type": "code",
      "source": [
        "type(True)"
      ],
      "metadata": {
        "colab": {
          "base_uri": "https://localhost:8080/"
        },
        "id": "tW5Iit4dUllb",
        "outputId": "590b0710-a5ec-4378-c378-747299a465c8"
      },
      "execution_count": 38,
      "outputs": [
        {
          "output_type": "execute_result",
          "data": {
            "text/plain": [
              "bool"
            ]
          },
          "metadata": {},
          "execution_count": 38
        }
      ]
    },
    {
      "cell_type": "markdown",
      "source": [
        "### Estructuras de datos"
      ],
      "metadata": {
        "id": "qzLTReB8UbGo"
      }
    },
    {
      "cell_type": "markdown",
      "source": [
        "#### Listas"
      ],
      "metadata": {
        "id": "j9HbfZxvUnoO"
      }
    },
    {
      "cell_type": "code",
      "source": [
        "lista = []\n",
        "lista"
      ],
      "metadata": {
        "colab": {
          "base_uri": "https://localhost:8080/"
        },
        "id": "MHpHEghpShBu",
        "outputId": "72f1d194-729e-4c34-a3c2-14d1b0d652c6"
      },
      "execution_count": 39,
      "outputs": [
        {
          "output_type": "execute_result",
          "data": {
            "text/plain": [
              "[]"
            ]
          },
          "metadata": {},
          "execution_count": 39
        }
      ]
    },
    {
      "cell_type": "code",
      "source": [
        "lista2 = [1, 4, 5, 6, 7, 4, 12, 2]\n",
        "lista2[1]"
      ],
      "metadata": {
        "colab": {
          "base_uri": "https://localhost:8080/"
        },
        "id": "igSxG7-yZsDn",
        "outputId": "9c96da0f-509d-406c-a030-a91a360d551c"
      },
      "execution_count": 40,
      "outputs": [
        {
          "output_type": "execute_result",
          "data": {
            "text/plain": [
              "4"
            ]
          },
          "metadata": {},
          "execution_count": 40
        }
      ]
    },
    {
      "cell_type": "code",
      "source": [
        "lista2[-1]"
      ],
      "metadata": {
        "colab": {
          "base_uri": "https://localhost:8080/"
        },
        "id": "ChPlOsb2ZwYn",
        "outputId": "1e8a4270-0108-4feb-9fd3-b4c65d3179ad"
      },
      "execution_count": 41,
      "outputs": [
        {
          "output_type": "execute_result",
          "data": {
            "text/plain": [
              "2"
            ]
          },
          "metadata": {},
          "execution_count": 41
        }
      ]
    },
    {
      "cell_type": "code",
      "source": [
        "lista2[0:4:2]"
      ],
      "metadata": {
        "colab": {
          "base_uri": "https://localhost:8080/"
        },
        "id": "zPwa9Xx2ZzIx",
        "outputId": "961b2647-98d6-4d4d-d272-3c6ceca42d41"
      },
      "execution_count": 42,
      "outputs": [
        {
          "output_type": "execute_result",
          "data": {
            "text/plain": [
              "[1, 5]"
            ]
          },
          "metadata": {},
          "execution_count": 42
        }
      ]
    },
    {
      "cell_type": "markdown",
      "source": [
        "**Agregar**"
      ],
      "metadata": {
        "id": "ZfLa6PkAVqRj"
      }
    },
    {
      "cell_type": "code",
      "source": [
        "lista.append(4)"
      ],
      "metadata": {
        "id": "1sW5b9hrY9uT"
      },
      "execution_count": 43,
      "outputs": []
    },
    {
      "cell_type": "code",
      "source": [
        "lista.extend([4, 5, 6])"
      ],
      "metadata": {
        "id": "qoQsUN1YY9qn"
      },
      "execution_count": 44,
      "outputs": []
    },
    {
      "cell_type": "code",
      "source": [
        "lista.insert(0, 10)"
      ],
      "metadata": {
        "id": "2T-BKEWBY9nH"
      },
      "execution_count": 45,
      "outputs": []
    },
    {
      "cell_type": "markdown",
      "source": [
        "**Eliminar**"
      ],
      "metadata": {
        "id": "rJaUu2LAY4SH"
      }
    },
    {
      "cell_type": "code",
      "source": [
        "lista.remove(4)"
      ],
      "metadata": {
        "id": "XmQ9etRMY-Og"
      },
      "execution_count": 46,
      "outputs": []
    },
    {
      "cell_type": "code",
      "source": [
        "lista.pop()"
      ],
      "metadata": {
        "colab": {
          "base_uri": "https://localhost:8080/"
        },
        "id": "ZcG0fmgzY-MN",
        "outputId": "d0bdc406-0498-4d5e-852a-eb93702d4a97"
      },
      "execution_count": 47,
      "outputs": [
        {
          "output_type": "execute_result",
          "data": {
            "text/plain": [
              "6"
            ]
          },
          "metadata": {},
          "execution_count": 47
        }
      ]
    },
    {
      "cell_type": "code",
      "source": [
        "lista.pop(0)"
      ],
      "metadata": {
        "colab": {
          "base_uri": "https://localhost:8080/"
        },
        "id": "YTMcDp1jY-Jl",
        "outputId": "881b2c9f-d3aa-4902-97c9-ff52f87d64b4"
      },
      "execution_count": 48,
      "outputs": [
        {
          "output_type": "execute_result",
          "data": {
            "text/plain": [
              "10"
            ]
          },
          "metadata": {},
          "execution_count": 48
        }
      ]
    },
    {
      "cell_type": "markdown",
      "source": [
        "**Ordenar**"
      ],
      "metadata": {
        "id": "VwCuOdGhY54b"
      }
    },
    {
      "cell_type": "code",
      "source": [
        "lista.sort()"
      ],
      "metadata": {
        "id": "Jn3t8YcAZJEg"
      },
      "execution_count": 49,
      "outputs": []
    },
    {
      "cell_type": "code",
      "source": [
        "lista.sort(reverse=True)"
      ],
      "metadata": {
        "id": "UzQhvsbrY-5z"
      },
      "execution_count": 50,
      "outputs": []
    },
    {
      "cell_type": "code",
      "source": [
        "lista.reverse()"
      ],
      "metadata": {
        "id": "XTExng8nY-3y"
      },
      "execution_count": 51,
      "outputs": []
    },
    {
      "cell_type": "markdown",
      "source": [
        "**Adicionales**"
      ],
      "metadata": {
        "id": "yENkNRvEY8A1"
      }
    },
    {
      "cell_type": "code",
      "source": [
        "lista.count(3)"
      ],
      "metadata": {
        "colab": {
          "base_uri": "https://localhost:8080/"
        },
        "id": "NDzKRqlsY39Z",
        "outputId": "62379d01-52ba-4eda-fc0c-9ac247bf3ff6"
      },
      "execution_count": 52,
      "outputs": [
        {
          "output_type": "execute_result",
          "data": {
            "text/plain": [
              "0"
            ]
          },
          "metadata": {},
          "execution_count": 52
        }
      ]
    },
    {
      "cell_type": "code",
      "source": [
        "lista.index(4)"
      ],
      "metadata": {
        "colab": {
          "base_uri": "https://localhost:8080/"
        },
        "id": "DRmD-G12UvMm",
        "outputId": "4eb931e6-eec1-4f2d-8e3b-a3af057961aa"
      },
      "execution_count": 53,
      "outputs": [
        {
          "output_type": "execute_result",
          "data": {
            "text/plain": [
              "0"
            ]
          },
          "metadata": {},
          "execution_count": 53
        }
      ]
    },
    {
      "cell_type": "code",
      "source": [
        "a = [4, 5 , 3]\n",
        "print(a)\n",
        "b = a\n",
        "print(b)\n",
        "b.append(10)\n",
        "print(a)\n",
        "print(b)"
      ],
      "metadata": {
        "colab": {
          "base_uri": "https://localhost:8080/"
        },
        "id": "N4Npig8kUvIn",
        "outputId": "17d32eee-532a-4ec7-ef02-e76949eacbf1"
      },
      "execution_count": 54,
      "outputs": [
        {
          "output_type": "stream",
          "name": "stdout",
          "text": [
            "[4, 5, 3]\n",
            "[4, 5, 3]\n",
            "[4, 5, 3, 10]\n",
            "[4, 5, 3, 10]\n"
          ]
        }
      ]
    },
    {
      "cell_type": "code",
      "source": [
        "print(a)\n",
        "print(b)\n",
        "b = a.copy()\n",
        "b.append(15)\n",
        "print(a)\n",
        "print(b)"
      ],
      "metadata": {
        "colab": {
          "base_uri": "https://localhost:8080/"
        },
        "id": "r383v6CcUvEk",
        "outputId": "ddbb08dc-937c-46b1-bacb-adf197406808"
      },
      "execution_count": 55,
      "outputs": [
        {
          "output_type": "stream",
          "name": "stdout",
          "text": [
            "[4, 5, 3, 10]\n",
            "[4, 5, 3, 10]\n",
            "[4, 5, 3, 10]\n",
            "[4, 5, 3, 10, 15]\n"
          ]
        }
      ]
    },
    {
      "cell_type": "code",
      "source": [
        "lista.clear()"
      ],
      "metadata": {
        "id": "aAOZO7gYUvAW"
      },
      "execution_count": 56,
      "outputs": []
    },
    {
      "cell_type": "markdown",
      "source": [
        "#### Tuplas"
      ],
      "metadata": {
        "id": "crYiSdJ-UpNN"
      }
    },
    {
      "cell_type": "code",
      "source": [
        "tupla = (4, 5, 2, 2, 1)"
      ],
      "metadata": {
        "id": "LeY5kkoxUs1t"
      },
      "execution_count": 57,
      "outputs": []
    },
    {
      "cell_type": "code",
      "source": [
        "tupla[0]"
      ],
      "metadata": {
        "colab": {
          "base_uri": "https://localhost:8080/"
        },
        "id": "aJejbI7dUv1y",
        "outputId": "3dc10997-201c-44c4-87da-2c7bd3510207"
      },
      "execution_count": 58,
      "outputs": [
        {
          "output_type": "execute_result",
          "data": {
            "text/plain": [
              "4"
            ]
          },
          "metadata": {},
          "execution_count": 58
        }
      ]
    },
    {
      "cell_type": "code",
      "source": [
        "tupla[0:3:2]"
      ],
      "metadata": {
        "colab": {
          "base_uri": "https://localhost:8080/"
        },
        "id": "QVCOXTJeUvyH",
        "outputId": "231a85b7-19d0-40ad-a4eb-45c3fdb71b7e"
      },
      "execution_count": 59,
      "outputs": [
        {
          "output_type": "execute_result",
          "data": {
            "text/plain": [
              "(4, 2)"
            ]
          },
          "metadata": {},
          "execution_count": 59
        }
      ]
    },
    {
      "cell_type": "code",
      "source": [
        "tupla.index(2)"
      ],
      "metadata": {
        "colab": {
          "base_uri": "https://localhost:8080/"
        },
        "id": "09lkuHncUvuR",
        "outputId": "b0aa0d2d-e36c-4ce8-ccd7-8e94360785a5"
      },
      "execution_count": 60,
      "outputs": [
        {
          "output_type": "execute_result",
          "data": {
            "text/plain": [
              "2"
            ]
          },
          "metadata": {},
          "execution_count": 60
        }
      ]
    },
    {
      "cell_type": "code",
      "source": [
        "tupla.count(2)"
      ],
      "metadata": {
        "colab": {
          "base_uri": "https://localhost:8080/"
        },
        "id": "wKD-LV41aAOL",
        "outputId": "1448fe99-d5ae-4a08-e387-d22639ebd931"
      },
      "execution_count": 61,
      "outputs": [
        {
          "output_type": "execute_result",
          "data": {
            "text/plain": [
              "2"
            ]
          },
          "metadata": {},
          "execution_count": 61
        }
      ]
    },
    {
      "cell_type": "markdown",
      "source": [
        "#### Diccionarios"
      ],
      "metadata": {
        "id": "MJU8eVnAUrCj"
      }
    },
    {
      "cell_type": "code",
      "source": [
        "a = {'letras': ['A', 'B', 'C'],\n",
        "     'numero': [4, 5, 3]}"
      ],
      "metadata": {
        "id": "4JWKiwZSUtSA"
      },
      "execution_count": 62,
      "outputs": []
    },
    {
      "cell_type": "code",
      "source": [
        "a['letras']"
      ],
      "metadata": {
        "colab": {
          "base_uri": "https://localhost:8080/"
        },
        "id": "00LQdUBXUwU6",
        "outputId": "527a63af-94b9-4b47-87aa-8a99f14f94b3"
      },
      "execution_count": 63,
      "outputs": [
        {
          "output_type": "execute_result",
          "data": {
            "text/plain": [
              "['A', 'B', 'C']"
            ]
          },
          "metadata": {},
          "execution_count": 63
        }
      ]
    },
    {
      "cell_type": "code",
      "source": [
        "a['simbolos'] = ['%', '$', '&']\n",
        "a"
      ],
      "metadata": {
        "colab": {
          "base_uri": "https://localhost:8080/"
        },
        "id": "JyRipj31UwSm",
        "outputId": "eb24dc67-0662-4a05-d4b7-3d40a3c3fe43"
      },
      "execution_count": 64,
      "outputs": [
        {
          "output_type": "execute_result",
          "data": {
            "text/plain": [
              "{'letras': ['A', 'B', 'C'], 'numero': [4, 5, 3], 'simbolos': ['%', '$', '&']}"
            ]
          },
          "metadata": {},
          "execution_count": 64
        }
      ]
    },
    {
      "cell_type": "code",
      "source": [
        "a.items()"
      ],
      "metadata": {
        "colab": {
          "base_uri": "https://localhost:8080/"
        },
        "id": "Kkssya56UwRB",
        "outputId": "c2ada15c-102d-4a3a-df7d-ffd8ce54271c"
      },
      "execution_count": 65,
      "outputs": [
        {
          "output_type": "execute_result",
          "data": {
            "text/plain": [
              "dict_items([('letras', ['A', 'B', 'C']), ('numero', [4, 5, 3]), ('simbolos', ['%', '$', '&'])])"
            ]
          },
          "metadata": {},
          "execution_count": 65
        }
      ]
    },
    {
      "cell_type": "code",
      "source": [
        "a.keys()"
      ],
      "metadata": {
        "colab": {
          "base_uri": "https://localhost:8080/"
        },
        "id": "psicjczmUwO6",
        "outputId": "45cf1ebf-10cb-4523-c161-0fda8480e495"
      },
      "execution_count": 66,
      "outputs": [
        {
          "output_type": "execute_result",
          "data": {
            "text/plain": [
              "dict_keys(['letras', 'numero', 'simbolos'])"
            ]
          },
          "metadata": {},
          "execution_count": 66
        }
      ]
    },
    {
      "cell_type": "code",
      "source": [
        "a.values()"
      ],
      "metadata": {
        "colab": {
          "base_uri": "https://localhost:8080/"
        },
        "id": "IbTeBofTUwMe",
        "outputId": "92b474a6-5f41-43da-8691-5e61a2761e8a"
      },
      "execution_count": 67,
      "outputs": [
        {
          "output_type": "execute_result",
          "data": {
            "text/plain": [
              "dict_values([['A', 'B', 'C'], [4, 5, 3], ['%', '$', '&']])"
            ]
          },
          "metadata": {},
          "execution_count": 67
        }
      ]
    },
    {
      "cell_type": "code",
      "source": [
        "a.pop('letras')"
      ],
      "metadata": {
        "colab": {
          "base_uri": "https://localhost:8080/"
        },
        "id": "xWSTtowLUwKG",
        "outputId": "78d225b6-c5c2-4b01-cc3e-dac59b608dec"
      },
      "execution_count": 68,
      "outputs": [
        {
          "output_type": "execute_result",
          "data": {
            "text/plain": [
              "['A', 'B', 'C']"
            ]
          },
          "metadata": {},
          "execution_count": 68
        }
      ]
    },
    {
      "cell_type": "code",
      "source": [
        "a"
      ],
      "metadata": {
        "colab": {
          "base_uri": "https://localhost:8080/"
        },
        "id": "ANsAIgDuUwHu",
        "outputId": "94f9e9cb-4ff2-41c0-cb73-76561d932fdd"
      },
      "execution_count": 69,
      "outputs": [
        {
          "output_type": "execute_result",
          "data": {
            "text/plain": [
              "{'numero': [4, 5, 3], 'simbolos': ['%', '$', '&']}"
            ]
          },
          "metadata": {},
          "execution_count": 69
        }
      ]
    },
    {
      "cell_type": "markdown",
      "source": [
        "## Rudimentos de python\n",
        "\n",
        "1. Condicionales\n",
        "2. Bucles\n",
        "3. Funciones\n",
        "  - Predeterminadas\n",
        "  - Estándar\n",
        "  - Funciones anónimas\n"
      ],
      "metadata": {
        "id": "kWstCSJzSaqL"
      }
    },
    {
      "cell_type": "markdown",
      "source": [
        "### Condicionales"
      ],
      "metadata": {
        "id": "YEZW54xRagBt"
      }
    },
    {
      "cell_type": "code",
      "source": [
        "n = 10\n",
        "if n > 5:\n",
        "  print('n es mayor a 5')"
      ],
      "metadata": {
        "colab": {
          "base_uri": "https://localhost:8080/"
        },
        "id": "rdZhwrylanlo",
        "outputId": "9e3f3623-6fd1-4fcf-d401-27f9b7951de5"
      },
      "execution_count": 70,
      "outputs": [
        {
          "output_type": "stream",
          "name": "stdout",
          "text": [
            "n es mayor a 5\n"
          ]
        }
      ]
    },
    {
      "cell_type": "code",
      "source": [
        "if n > 5:\n",
        "  print('n es mayor a 5')\n",
        "else:\n",
        "  print('n no es mayor a 5')"
      ],
      "metadata": {
        "colab": {
          "base_uri": "https://localhost:8080/"
        },
        "id": "QRb5kF3yan7O",
        "outputId": "456e9a5a-c154-4a2d-f29a-0e001547ebe0"
      },
      "execution_count": 71,
      "outputs": [
        {
          "output_type": "stream",
          "name": "stdout",
          "text": [
            "n es mayor a 5\n"
          ]
        }
      ]
    },
    {
      "cell_type": "code",
      "source": [
        "x = -4\n",
        "if x > 0:\n",
        "  print('x es positivo')\n",
        "elif x == 0:\n",
        "  print('x es igual a 0')\n",
        "else:\n",
        "  print('x es negativo')"
      ],
      "metadata": {
        "colab": {
          "base_uri": "https://localhost:8080/"
        },
        "id": "Es48k-x1an3A",
        "outputId": "98ed766d-ba9e-4bd6-a0c5-eb0dca6a8800"
      },
      "execution_count": 72,
      "outputs": [
        {
          "output_type": "stream",
          "name": "stdout",
          "text": [
            "x es negativo\n"
          ]
        }
      ]
    },
    {
      "cell_type": "code",
      "source": [
        "y = -4\n",
        "\n",
        "if y < 0:\n",
        "  print('Es positivo')\n",
        "if type(y) == int:\n",
        "  print('Es integer')"
      ],
      "metadata": {
        "colab": {
          "base_uri": "https://localhost:8080/"
        },
        "id": "T3qQVzOuanz2",
        "outputId": "27f79832-ca40-4d46-dfc2-da1f9eeac2dd"
      },
      "execution_count": 73,
      "outputs": [
        {
          "output_type": "stream",
          "name": "stdout",
          "text": [
            "Es positivo\n",
            "Es integer\n"
          ]
        }
      ]
    },
    {
      "cell_type": "code",
      "source": [
        "x = False\n",
        "if type(x) == int:\n",
        "  if x > 0:\n",
        "    print('Positivo')\n",
        "  elif x == 0:\n",
        "    print('Igual a 0')\n",
        "  else:\n",
        "    print('Negativo')\n",
        "elif type(x) == str:\n",
        "  print('Es un string')\n",
        "elif type(x) == float:\n",
        "  print('Es un float')\n",
        "else:\n",
        "  if x * 2 != 0:\n",
        "    print(True)\n",
        "  else:\n",
        "    print(False)"
      ],
      "metadata": {
        "colab": {
          "base_uri": "https://localhost:8080/"
        },
        "id": "sKy-xt4cbP1w",
        "outputId": "b2dcc7ac-4e3b-405f-c8b7-d8b759b0c46b"
      },
      "execution_count": 74,
      "outputs": [
        {
          "output_type": "stream",
          "name": "stdout",
          "text": [
            "False\n"
          ]
        }
      ]
    },
    {
      "cell_type": "markdown",
      "source": [
        "### Bucles"
      ],
      "metadata": {
        "id": "J8hdwgMraf8D"
      }
    },
    {
      "cell_type": "markdown",
      "source": [
        "#### for"
      ],
      "metadata": {
        "id": "IXDFkh9nb_BA"
      }
    },
    {
      "cell_type": "code",
      "source": [
        "lista = [4, 5, 6]"
      ],
      "metadata": {
        "id": "dC2TRyZpaoc-"
      },
      "execution_count": 75,
      "outputs": []
    },
    {
      "cell_type": "code",
      "source": [
        "for numero in lista:\n",
        "  print(numero)"
      ],
      "metadata": {
        "colab": {
          "base_uri": "https://localhost:8080/"
        },
        "id": "1P1n_2Dbaoah",
        "outputId": "d73a3960-1e67-4cbc-e464-dcacdeeb24b3"
      },
      "execution_count": 76,
      "outputs": [
        {
          "output_type": "stream",
          "name": "stdout",
          "text": [
            "4\n",
            "5\n",
            "6\n"
          ]
        }
      ]
    },
    {
      "cell_type": "code",
      "source": [
        "for numero in lista:\n",
        "  print(numero ** 2)"
      ],
      "metadata": {
        "colab": {
          "base_uri": "https://localhost:8080/"
        },
        "id": "z-iiMl48aoYD",
        "outputId": "b22b1475-ab6d-4d2b-87d8-b6847cb31034"
      },
      "execution_count": 77,
      "outputs": [
        {
          "output_type": "stream",
          "name": "stdout",
          "text": [
            "16\n",
            "25\n",
            "36\n"
          ]
        }
      ]
    },
    {
      "cell_type": "code",
      "source": [
        "for numero in lista:\n",
        "  for numero2 in lista:\n",
        "    print(numero * numero2)"
      ],
      "metadata": {
        "colab": {
          "base_uri": "https://localhost:8080/"
        },
        "id": "jT22pQ7PaoVb",
        "outputId": "aa973827-0f88-4c9b-c4bd-f4f9516c34e4"
      },
      "execution_count": 78,
      "outputs": [
        {
          "output_type": "stream",
          "name": "stdout",
          "text": [
            "16\n",
            "20\n",
            "24\n",
            "20\n",
            "25\n",
            "30\n",
            "24\n",
            "30\n",
            "36\n"
          ]
        }
      ]
    },
    {
      "cell_type": "code",
      "source": [
        "for i in range(10):\n",
        "  if i % 2 == 0:\n",
        "    print(i, 'par')\n",
        "  else:\n",
        "    print(i, 'impar')\n",
        "    continue\n",
        "  print(\"Hola\")\n",
        "  if i == 8:\n",
        "    break"
      ],
      "metadata": {
        "colab": {
          "base_uri": "https://localhost:8080/"
        },
        "id": "ysb9G7KccBqL",
        "outputId": "5e46e2c6-8ea6-4413-8338-5c49e1467026"
      },
      "execution_count": 79,
      "outputs": [
        {
          "output_type": "stream",
          "name": "stdout",
          "text": [
            "0 par\n",
            "Hola\n",
            "1 impar\n",
            "2 par\n",
            "Hola\n",
            "3 impar\n",
            "4 par\n",
            "Hola\n",
            "5 impar\n",
            "6 par\n",
            "Hola\n",
            "7 impar\n",
            "8 par\n",
            "Hola\n"
          ]
        }
      ]
    },
    {
      "cell_type": "code",
      "source": [
        "for idx, value in enumerate(lista):\n",
        "  print(idx, value)"
      ],
      "metadata": {
        "colab": {
          "base_uri": "https://localhost:8080/"
        },
        "id": "WJlH4rh-dRgc",
        "outputId": "5f3cbc88-5cbb-4ddb-d9a8-e83ab489e5e6"
      },
      "execution_count": 80,
      "outputs": [
        {
          "output_type": "stream",
          "name": "stdout",
          "text": [
            "0 4\n",
            "1 5\n",
            "2 6\n"
          ]
        }
      ]
    },
    {
      "cell_type": "code",
      "source": [
        "for a, b in zip([3, 4, 5], [1, 2, 3]):\n",
        "  print(a, b)"
      ],
      "metadata": {
        "colab": {
          "base_uri": "https://localhost:8080/"
        },
        "id": "eYVo3sncdVdZ",
        "outputId": "5efc9430-518d-4abf-92b9-a0019ed8341c"
      },
      "execution_count": 81,
      "outputs": [
        {
          "output_type": "stream",
          "name": "stdout",
          "text": [
            "3 1\n",
            "4 2\n",
            "5 3\n"
          ]
        }
      ]
    },
    {
      "cell_type": "code",
      "source": [
        "for i in range(2):\n",
        "  for j in range(2):\n",
        "    for k in range(2):\n",
        "      print(i, j, k)"
      ],
      "metadata": {
        "colab": {
          "base_uri": "https://localhost:8080/"
        },
        "id": "suKaRAMQhVtr",
        "outputId": "663c26fe-f7a6-459f-ca6c-6875496d5d0e"
      },
      "execution_count": 82,
      "outputs": [
        {
          "output_type": "stream",
          "name": "stdout",
          "text": [
            "0 0 0\n",
            "0 0 1\n",
            "0 1 0\n",
            "0 1 1\n",
            "1 0 0\n",
            "1 0 1\n",
            "1 1 0\n",
            "1 1 1\n"
          ]
        }
      ]
    },
    {
      "cell_type": "markdown",
      "source": [
        "#### while"
      ],
      "metadata": {
        "id": "PNzxIkW5cAfU"
      }
    },
    {
      "cell_type": "code",
      "source": [
        "contador = 1\n",
        "while contador < 10:\n",
        "  print(contador)\n",
        "  contador += 1"
      ],
      "metadata": {
        "colab": {
          "base_uri": "https://localhost:8080/"
        },
        "id": "pFopl6WYcWdF",
        "outputId": "6c3bcbb7-8e41-4193-e17e-c9634e8387d1"
      },
      "execution_count": 83,
      "outputs": [
        {
          "output_type": "stream",
          "name": "stdout",
          "text": [
            "1\n",
            "2\n",
            "3\n",
            "4\n",
            "5\n",
            "6\n",
            "7\n",
            "8\n",
            "9\n"
          ]
        }
      ]
    },
    {
      "cell_type": "markdown",
      "source": [
        "### Funciones"
      ],
      "metadata": {
        "id": "rT9q5ukZaf4A"
      }
    },
    {
      "cell_type": "markdown",
      "source": [
        "#### predeterminadas"
      ],
      "metadata": {
        "id": "M67-5_NHcgyI"
      }
    },
    {
      "cell_type": "code",
      "source": [
        "print('Hola, mundo')"
      ],
      "metadata": {
        "colab": {
          "base_uri": "https://localhost:8080/"
        },
        "id": "KtGW52Xzdcw0",
        "outputId": "89abf95a-0173-41e6-c5a7-829f082335e3"
      },
      "execution_count": 84,
      "outputs": [
        {
          "output_type": "stream",
          "name": "stdout",
          "text": [
            "Hola, mundo\n"
          ]
        }
      ]
    },
    {
      "cell_type": "code",
      "source": [
        "type('hola')"
      ],
      "metadata": {
        "colab": {
          "base_uri": "https://localhost:8080/"
        },
        "id": "Ra74MNDMdejk",
        "outputId": "1895f28a-22b1-4bbb-d930-0d5ac81c78bf"
      },
      "execution_count": 85,
      "outputs": [
        {
          "output_type": "execute_result",
          "data": {
            "text/plain": [
              "str"
            ]
          },
          "metadata": {},
          "execution_count": 85
        }
      ]
    },
    {
      "cell_type": "markdown",
      "source": [
        "**Transformación de datos**"
      ],
      "metadata": {
        "id": "SUB5sP7ediqp"
      }
    },
    {
      "cell_type": "code",
      "source": [
        "int(4.5), float(4), str(4), bool(4)"
      ],
      "metadata": {
        "colab": {
          "base_uri": "https://localhost:8080/"
        },
        "id": "aIunERXXdehR",
        "outputId": "58707b4f-25c7-4806-88d5-fb8a480020e2"
      },
      "execution_count": 86,
      "outputs": [
        {
          "output_type": "execute_result",
          "data": {
            "text/plain": [
              "(4, 4.0, '4', True)"
            ]
          },
          "metadata": {},
          "execution_count": 86
        }
      ]
    },
    {
      "cell_type": "code",
      "source": [
        "float('3.4'), bool(\"\"), bool(0)"
      ],
      "metadata": {
        "colab": {
          "base_uri": "https://localhost:8080/"
        },
        "id": "dCekVYf8deez",
        "outputId": "30039ef8-4aed-43b4-a5ef-1592be2b1b4a"
      },
      "execution_count": 87,
      "outputs": [
        {
          "output_type": "execute_result",
          "data": {
            "text/plain": [
              "(3.4, False, False)"
            ]
          },
          "metadata": {},
          "execution_count": 87
        }
      ]
    },
    {
      "cell_type": "code",
      "source": [
        "tuple(lista), set(lista), dict(a=[3, 4, 5], b=[1, 2, 3]), list((4, 5, 6))"
      ],
      "metadata": {
        "colab": {
          "base_uri": "https://localhost:8080/"
        },
        "id": "8m_iXp-jdecR",
        "outputId": "5f347e06-1e44-4c03-9862-a78fcc978807"
      },
      "execution_count": 88,
      "outputs": [
        {
          "output_type": "execute_result",
          "data": {
            "text/plain": [
              "((4, 5, 6), {4, 5, 6}, {'a': [3, 4, 5], 'b': [1, 2, 3]}, [4, 5, 6])"
            ]
          },
          "metadata": {},
          "execution_count": 88
        }
      ]
    },
    {
      "cell_type": "markdown",
      "source": [
        "**Matemáticas**"
      ],
      "metadata": {
        "id": "VY_bBPEqeFtJ"
      }
    },
    {
      "cell_type": "code",
      "source": [
        "abs(-4), len(lista), max(lista), min(lista), sum(lista)"
      ],
      "metadata": {
        "colab": {
          "base_uri": "https://localhost:8080/"
        },
        "id": "zCkjhpTLeHml",
        "outputId": "180ac4e5-1739-42a3-c6c2-dd8c4bbce00f"
      },
      "execution_count": 89,
      "outputs": [
        {
          "output_type": "execute_result",
          "data": {
            "text/plain": [
              "(4, 3, 6, 4, 15)"
            ]
          },
          "metadata": {},
          "execution_count": 89
        }
      ]
    },
    {
      "cell_type": "code",
      "source": [
        "round(3.14159265, 4)"
      ],
      "metadata": {
        "colab": {
          "base_uri": "https://localhost:8080/"
        },
        "id": "E3wQofK-eOFQ",
        "outputId": "396b454a-d508-4502-d228-ead2568c3b5f"
      },
      "execution_count": 90,
      "outputs": [
        {
          "output_type": "execute_result",
          "data": {
            "text/plain": [
              "3.1416"
            ]
          },
          "metadata": {},
          "execution_count": 90
        }
      ]
    },
    {
      "cell_type": "code",
      "source": [
        "sorted(lista)"
      ],
      "metadata": {
        "colab": {
          "base_uri": "https://localhost:8080/"
        },
        "id": "FRhODcIKeVU-",
        "outputId": "dd7f7340-35d7-48e5-d62e-ef7d7c422482"
      },
      "execution_count": 91,
      "outputs": [
        {
          "output_type": "execute_result",
          "data": {
            "text/plain": [
              "[4, 5, 6]"
            ]
          },
          "metadata": {},
          "execution_count": 91
        }
      ]
    },
    {
      "cell_type": "markdown",
      "source": [
        "**Algunas más**"
      ],
      "metadata": {
        "id": "bglp795jedy4"
      }
    },
    {
      "cell_type": "code",
      "source": [
        "help(eval)"
      ],
      "metadata": {
        "colab": {
          "base_uri": "https://localhost:8080/"
        },
        "id": "4CsqSVn3ao4O",
        "outputId": "153e5aaa-c2f8-4726-d18b-f993e68a7d2f"
      },
      "execution_count": 92,
      "outputs": [
        {
          "output_type": "stream",
          "name": "stdout",
          "text": [
            "Help on built-in function eval in module builtins:\n",
            "\n",
            "eval(source, globals=None, locals=None, /)\n",
            "    Evaluate the given source in the context of globals and locals.\n",
            "    \n",
            "    The source may be a string representing a Python expression\n",
            "    or a code object as returned by compile().\n",
            "    The globals must be a dictionary and locals can be any mapping,\n",
            "    defaulting to the current globals and locals.\n",
            "    If only globals is given, locals defaults to it.\n",
            "\n"
          ]
        }
      ]
    },
    {
      "cell_type": "code",
      "source": [
        "eval(\"4 + 5\")"
      ],
      "metadata": {
        "colab": {
          "base_uri": "https://localhost:8080/"
        },
        "id": "DXNdjxSEaoy1",
        "outputId": "7dd13df9-3c11-410d-ad0f-e759afe188df"
      },
      "execution_count": 93,
      "outputs": [
        {
          "output_type": "execute_result",
          "data": {
            "text/plain": [
              "9"
            ]
          },
          "metadata": {},
          "execution_count": 93
        }
      ]
    },
    {
      "cell_type": "code",
      "source": [
        "input()"
      ],
      "metadata": {
        "colab": {
          "base_uri": "https://localhost:8080/",
          "height": 53
        },
        "id": "Mowrlb3pTMPY",
        "outputId": "6e72ee21-b8f4-483d-802c-4fefb82c4556"
      },
      "execution_count": 94,
      "outputs": [
        {
          "name": "stdout",
          "output_type": "stream",
          "text": [
            "\n"
          ]
        },
        {
          "output_type": "execute_result",
          "data": {
            "text/plain": [
              "''"
            ],
            "application/vnd.google.colaboratory.intrinsic+json": {
              "type": "string"
            }
          },
          "metadata": {},
          "execution_count": 94
        }
      ]
    },
    {
      "cell_type": "code",
      "source": [
        "eval(input())"
      ],
      "metadata": {
        "colab": {
          "base_uri": "https://localhost:8080/"
        },
        "id": "QDJoDmqpej-D",
        "outputId": "114f29b3-3897-4548-91f3-7c2625b2f80b"
      },
      "execution_count": 95,
      "outputs": [
        {
          "name": "stdout",
          "output_type": "stream",
          "text": [
            "4 + 5\n"
          ]
        },
        {
          "output_type": "execute_result",
          "data": {
            "text/plain": [
              "9"
            ]
          },
          "metadata": {},
          "execution_count": 95
        }
      ]
    },
    {
      "cell_type": "markdown",
      "source": [
        "#### Estándar"
      ],
      "metadata": {
        "id": "JQG31AEqevVm"
      }
    },
    {
      "cell_type": "code",
      "source": [
        "def suma(a, b):\n",
        "  return a + b"
      ],
      "metadata": {
        "id": "qJfgJnzmezQb"
      },
      "execution_count": 96,
      "outputs": []
    },
    {
      "cell_type": "code",
      "source": [
        "def suma2(a, b):\n",
        "  print(a + b)"
      ],
      "metadata": {
        "id": "uRZAiCjfezOe"
      },
      "execution_count": 97,
      "outputs": []
    },
    {
      "cell_type": "code",
      "source": [
        "suma2(4, 5)"
      ],
      "metadata": {
        "colab": {
          "base_uri": "https://localhost:8080/"
        },
        "id": "VzI2-lFve_L2",
        "outputId": "81fbafa3-d21e-494a-cfc9-0003cdff749b"
      },
      "execution_count": 98,
      "outputs": [
        {
          "output_type": "stream",
          "name": "stdout",
          "text": [
            "9\n"
          ]
        }
      ]
    },
    {
      "cell_type": "code",
      "source": [
        "suma(4, 5)"
      ],
      "metadata": {
        "colab": {
          "base_uri": "https://localhost:8080/"
        },
        "id": "Jbipi5jIe_JM",
        "outputId": "d8c769de-d2a9-4313-adba-eb93c82574d6"
      },
      "execution_count": 99,
      "outputs": [
        {
          "output_type": "execute_result",
          "data": {
            "text/plain": [
              "9"
            ]
          },
          "metadata": {},
          "execution_count": 99
        }
      ]
    },
    {
      "cell_type": "code",
      "source": [
        "def suma(a: int, b:int) -> int:\n",
        "  return a + b"
      ],
      "metadata": {
        "id": "mR-UEZmbe_HG"
      },
      "execution_count": 100,
      "outputs": []
    },
    {
      "cell_type": "code",
      "source": [
        "suma(4, 5)"
      ],
      "metadata": {
        "colab": {
          "base_uri": "https://localhost:8080/"
        },
        "id": "atzCdliWe_El",
        "outputId": "8719a6a0-4213-46bb-ded1-1f9077f08bd7"
      },
      "execution_count": 101,
      "outputs": [
        {
          "output_type": "execute_result",
          "data": {
            "text/plain": [
              "9"
            ]
          },
          "metadata": {},
          "execution_count": 101
        }
      ]
    },
    {
      "cell_type": "code",
      "source": [
        "def potencia(a, b=2):\n",
        "  return a ** b"
      ],
      "metadata": {
        "id": "7L_govmEfTbI"
      },
      "execution_count": 102,
      "outputs": []
    },
    {
      "cell_type": "code",
      "source": [
        "potencia(4, 2)"
      ],
      "metadata": {
        "colab": {
          "base_uri": "https://localhost:8080/"
        },
        "id": "xvMSiXfGfTY3",
        "outputId": "d6a51bf3-84f7-4bcf-882b-1c09c88f30ea"
      },
      "execution_count": 103,
      "outputs": [
        {
          "output_type": "execute_result",
          "data": {
            "text/plain": [
              "16"
            ]
          },
          "metadata": {},
          "execution_count": 103
        }
      ]
    },
    {
      "cell_type": "code",
      "source": [
        "potencia(4)"
      ],
      "metadata": {
        "colab": {
          "base_uri": "https://localhost:8080/"
        },
        "id": "qrpQ_LxvfZGq",
        "outputId": "4e4ef9ce-7f2f-4418-96ae-88e63dc7cf18"
      },
      "execution_count": 104,
      "outputs": [
        {
          "output_type": "execute_result",
          "data": {
            "text/plain": [
              "16"
            ]
          },
          "metadata": {},
          "execution_count": 104
        }
      ]
    },
    {
      "cell_type": "code",
      "source": [
        "potencia(4, 3)"
      ],
      "metadata": {
        "colab": {
          "base_uri": "https://localhost:8080/"
        },
        "id": "QG-ZzHRWfZEC",
        "outputId": "881f6c01-8225-4d46-81b3-938e9832e7db"
      },
      "execution_count": 105,
      "outputs": [
        {
          "output_type": "execute_result",
          "data": {
            "text/plain": [
              "64"
            ]
          },
          "metadata": {},
          "execution_count": 105
        }
      ]
    },
    {
      "cell_type": "code",
      "source": [
        "def potencias (a, *ns):\n",
        "  for n in ns:\n",
        "    print(a ** n)"
      ],
      "metadata": {
        "id": "QCZ40SnifTWm"
      },
      "execution_count": 106,
      "outputs": []
    },
    {
      "cell_type": "code",
      "source": [
        "potencias(4, 2, 3, 4, 5, 6)"
      ],
      "metadata": {
        "colab": {
          "base_uri": "https://localhost:8080/"
        },
        "id": "Xf6hOae9fTUe",
        "outputId": "be841a5c-f822-497d-8f3b-84dc5e33f871"
      },
      "execution_count": 107,
      "outputs": [
        {
          "output_type": "stream",
          "name": "stdout",
          "text": [
            "16\n",
            "64\n",
            "256\n",
            "1024\n",
            "4096\n"
          ]
        }
      ]
    },
    {
      "cell_type": "markdown",
      "source": [
        "#### Anónimas"
      ],
      "metadata": {
        "id": "WWn9DhK6ewrb"
      }
    },
    {
      "cell_type": "code",
      "source": [
        "lambda x: x + y"
      ],
      "metadata": {
        "colab": {
          "base_uri": "https://localhost:8080/"
        },
        "id": "A7847jq_ezm7",
        "outputId": "fe6a1e60-3780-44a8-d6f3-efcba5c90e9f"
      },
      "execution_count": 108,
      "outputs": [
        {
          "output_type": "execute_result",
          "data": {
            "text/plain": [
              "<function __main__.<lambda>(x)>"
            ]
          },
          "metadata": {},
          "execution_count": 108
        }
      ]
    },
    {
      "cell_type": "code",
      "source": [
        "suma = lambda x, y: x + y"
      ],
      "metadata": {
        "id": "2XnZxxywezk1"
      },
      "execution_count": 109,
      "outputs": []
    },
    {
      "cell_type": "code",
      "source": [
        "suma(a, b)"
      ],
      "metadata": {
        "colab": {
          "base_uri": "https://localhost:8080/"
        },
        "id": "ViB_1Bycezi4",
        "outputId": "891b0570-e2f8-47ca-bd15-d414e9d86ca4"
      },
      "execution_count": 110,
      "outputs": [
        {
          "output_type": "execute_result",
          "data": {
            "text/plain": [
              "8"
            ]
          },
          "metadata": {},
          "execution_count": 110
        }
      ]
    },
    {
      "cell_type": "markdown",
      "source": [
        "## Conceptos intermedios de python\n",
        "\n",
        "1. List comprehension\n",
        "2. Errores\n",
        "3. Generadores, filter, map, range\n",
        "4. Manipulación de documentos\n",
        "5. Módulos\n"
      ],
      "metadata": {
        "id": "qcf5OSB5Sc2i"
      }
    },
    {
      "cell_type": "markdown",
      "source": [
        "### List comprehension"
      ],
      "metadata": {
        "id": "xXx935UQgEsu"
      }
    },
    {
      "cell_type": "code",
      "source": [
        "lista_v = []\n",
        "\n",
        "for i in range(10):\n",
        "  lista_v.append(i)\n",
        "\n",
        "lista_v"
      ],
      "metadata": {
        "colab": {
          "base_uri": "https://localhost:8080/"
        },
        "id": "Dxff2_2BgQrQ",
        "outputId": "1c01b4d2-debc-415f-b1d7-1ee67634ea47"
      },
      "execution_count": 111,
      "outputs": [
        {
          "output_type": "execute_result",
          "data": {
            "text/plain": [
              "[0, 1, 2, 3, 4, 5, 6, 7, 8, 9]"
            ]
          },
          "metadata": {},
          "execution_count": 111
        }
      ]
    },
    {
      "cell_type": "code",
      "source": [
        "lista_v = [i for i in range(10)]\n",
        "lista_v"
      ],
      "metadata": {
        "colab": {
          "base_uri": "https://localhost:8080/"
        },
        "id": "uzGDP3eugYkm",
        "outputId": "717d9ebe-3db8-40f9-f66c-a199aed908e6"
      },
      "execution_count": 112,
      "outputs": [
        {
          "output_type": "execute_result",
          "data": {
            "text/plain": [
              "[0, 1, 2, 3, 4, 5, 6, 7, 8, 9]"
            ]
          },
          "metadata": {},
          "execution_count": 112
        }
      ]
    },
    {
      "cell_type": "code",
      "source": [
        "lista_pares = []\n",
        "for i in range(20):\n",
        "  if i % 2 == 0:\n",
        "    lista_pares.append(i)\n",
        "lista_pares"
      ],
      "metadata": {
        "colab": {
          "base_uri": "https://localhost:8080/"
        },
        "id": "tv2kpI4Zgddo",
        "outputId": "e697f090-8750-4148-ed67-b406b3e1b914"
      },
      "execution_count": 113,
      "outputs": [
        {
          "output_type": "execute_result",
          "data": {
            "text/plain": [
              "[0, 2, 4, 6, 8, 10, 12, 14, 16, 18]"
            ]
          },
          "metadata": {},
          "execution_count": 113
        }
      ]
    },
    {
      "cell_type": "code",
      "source": [
        "lista_pares = [i for i in range(20) if i % 2 == 0]\n",
        "lista_pares"
      ],
      "metadata": {
        "colab": {
          "base_uri": "https://localhost:8080/"
        },
        "id": "KepidmJkgqR3",
        "outputId": "862d5d3d-d593-4d6f-813b-9592f0a29b70"
      },
      "execution_count": 114,
      "outputs": [
        {
          "output_type": "execute_result",
          "data": {
            "text/plain": [
              "[0, 2, 4, 6, 8, 10, 12, 14, 16, 18]"
            ]
          },
          "metadata": {},
          "execution_count": 114
        }
      ]
    },
    {
      "cell_type": "code",
      "source": [
        "lista = [letra for palabra in ['ab', 'cd', 'ef'] for letra in palabra]\n",
        "lista"
      ],
      "metadata": {
        "colab": {
          "base_uri": "https://localhost:8080/"
        },
        "id": "dvxjrgYbhEcL",
        "outputId": "85b0c894-3a8d-412b-9653-a4a10c8efeab"
      },
      "execution_count": 115,
      "outputs": [
        {
          "output_type": "execute_result",
          "data": {
            "text/plain": [
              "['a', 'b', 'c', 'd', 'e', 'f']"
            ]
          },
          "metadata": {},
          "execution_count": 115
        }
      ]
    },
    {
      "cell_type": "markdown",
      "source": [
        "### Errores"
      ],
      "metadata": {
        "id": "2Lkt_HPvgIRZ"
      }
    },
    {
      "cell_type": "code",
      "source": [
        "print('Inicia el programa')\n",
        "print('Hola')\n",
        "print('...')\n",
        "print('Empezamos')\n",
        "a = input('Ingrese un número: ')\n",
        "print(a + 2)\n",
        "print('Ha sido calculado')\n",
        "print('Sigue el programa')\n",
        "print('***')"
      ],
      "metadata": {
        "colab": {
          "base_uri": "https://localhost:8080/",
          "height": 329
        },
        "id": "BfkCLCOkgREi",
        "outputId": "8c1a917d-11e7-4040-9ae0-7d11ad7978c4"
      },
      "execution_count": 117,
      "outputs": [
        {
          "name": "stdout",
          "output_type": "stream",
          "text": [
            "Inicia el programa\n",
            "Hola\n",
            "...\n",
            "Empezamos\n",
            "Ingrese un número: 4\n"
          ]
        },
        {
          "output_type": "error",
          "ename": "TypeError",
          "evalue": "ignored",
          "traceback": [
            "\u001b[0;31m---------------------------------------------------------------------------\u001b[0m",
            "\u001b[0;31mTypeError\u001b[0m                                 Traceback (most recent call last)",
            "\u001b[0;32m<ipython-input-117-3535c206f881>\u001b[0m in \u001b[0;36m<module>\u001b[0;34m\u001b[0m\n\u001b[1;32m      4\u001b[0m \u001b[0mprint\u001b[0m\u001b[0;34m(\u001b[0m\u001b[0;34m'Empezamos'\u001b[0m\u001b[0;34m)\u001b[0m\u001b[0;34m\u001b[0m\u001b[0;34m\u001b[0m\u001b[0m\n\u001b[1;32m      5\u001b[0m \u001b[0ma\u001b[0m \u001b[0;34m=\u001b[0m \u001b[0minput\u001b[0m\u001b[0;34m(\u001b[0m\u001b[0;34m'Ingrese un número: '\u001b[0m\u001b[0;34m)\u001b[0m\u001b[0;34m\u001b[0m\u001b[0;34m\u001b[0m\u001b[0m\n\u001b[0;32m----> 6\u001b[0;31m \u001b[0mprint\u001b[0m\u001b[0;34m(\u001b[0m\u001b[0ma\u001b[0m \u001b[0;34m+\u001b[0m \u001b[0;36m2\u001b[0m\u001b[0;34m)\u001b[0m\u001b[0;34m\u001b[0m\u001b[0;34m\u001b[0m\u001b[0m\n\u001b[0m\u001b[1;32m      7\u001b[0m \u001b[0mprint\u001b[0m\u001b[0;34m(\u001b[0m\u001b[0;34m'Ha sido calculado'\u001b[0m\u001b[0;34m)\u001b[0m\u001b[0;34m\u001b[0m\u001b[0;34m\u001b[0m\u001b[0m\n\u001b[1;32m      8\u001b[0m \u001b[0mprint\u001b[0m\u001b[0;34m(\u001b[0m\u001b[0;34m'Sigue el programa'\u001b[0m\u001b[0;34m)\u001b[0m\u001b[0;34m\u001b[0m\u001b[0;34m\u001b[0m\u001b[0m\n",
            "\u001b[0;31mTypeError\u001b[0m: can only concatenate str (not \"int\") to str"
          ]
        }
      ]
    },
    {
      "cell_type": "code",
      "source": [
        "print('Inicia el programa')\n",
        "print('Hola')\n",
        "print('...')\n",
        "print('Empezamos')\n",
        "try:\n",
        "  a = input('Ingrese un número: ')\n",
        "  print(a + 2)\n",
        "  print('Ha sido calculado')\n",
        "except:\n",
        "  print('Error')\n",
        "print('Sigue el programa')\n",
        "print('***')"
      ],
      "metadata": {
        "colab": {
          "base_uri": "https://localhost:8080/"
        },
        "id": "ji0xwxBph1MF",
        "outputId": "304b2dee-49ee-4b41-816f-ab2abff81910"
      },
      "execution_count": 118,
      "outputs": [
        {
          "output_type": "stream",
          "name": "stdout",
          "text": [
            "Inicia el programa\n",
            "Hola\n",
            "...\n",
            "Empezamos\n",
            "Ingrese un número: 4\n",
            "Error\n",
            "Sigue el programa\n",
            "***\n"
          ]
        }
      ]
    },
    {
      "cell_type": "code",
      "source": [
        "print('Inicia el programa')\n",
        "print('Hola')\n",
        "print('...')\n",
        "print('Empezamos')\n",
        "try:\n",
        "  a = input('Ingrese un número: ')\n",
        "  print(a + 2)\n",
        "  print('Ha sido calculado')\n",
        "except TypeError as e:\n",
        "  print('Error del tipo de dato',':', e)\n",
        "print('Sigue el programa')\n",
        "print('***')"
      ],
      "metadata": {
        "colab": {
          "base_uri": "https://localhost:8080/"
        },
        "id": "7D3pn8DQh1HB",
        "outputId": "6710c7a0-46bb-4bc8-dbfc-a3485dde5062"
      },
      "execution_count": 119,
      "outputs": [
        {
          "output_type": "stream",
          "name": "stdout",
          "text": [
            "Inicia el programa\n",
            "Hola\n",
            "...\n",
            "Empezamos\n",
            "Ingrese un número: 4\n",
            "Error del tipo de dato : can only concatenate str (not \"int\") to str\n",
            "Sigue el programa\n",
            "***\n"
          ]
        }
      ]
    },
    {
      "cell_type": "code",
      "source": [
        "print('Inicia el programa')\n",
        "print('Hola')\n",
        "print('...')\n",
        "print('Empezamos')\n",
        "try:\n",
        "  a = int(input('Ingrese un número: '))\n",
        "  print(a + 2)\n",
        "\n",
        "except TypeError as e:\n",
        "  print('Error del tipo de dato',':', e)\n",
        "except ValueError as e:\n",
        "  print('Error de valor :', e)\n",
        "else:\n",
        "  print('Ha sido calculado')\n",
        "print('Sigue el programa')\n",
        "print('***')"
      ],
      "metadata": {
        "colab": {
          "base_uri": "https://localhost:8080/"
        },
        "id": "eeDhhptRh05H",
        "outputId": "4c8d27af-eaf8-4aec-b0cd-001224f4d28f"
      },
      "execution_count": 120,
      "outputs": [
        {
          "output_type": "stream",
          "name": "stdout",
          "text": [
            "Inicia el programa\n",
            "Hola\n",
            "...\n",
            "Empezamos\n",
            "Ingrese un número: 4\n",
            "6\n",
            "Ha sido calculado\n",
            "Sigue el programa\n",
            "***\n"
          ]
        }
      ]
    },
    {
      "cell_type": "code",
      "source": [
        "print('Inicia el programa')\n",
        "print('Hola')\n",
        "print('...')\n",
        "print('Empezamos')\n",
        "try:\n",
        "  a = int(input('Ingrese un número: '))\n",
        "  print(a + 2)\n",
        "\n",
        "except TypeError as e:\n",
        "  print('Error del tipo de dato',':', e)\n",
        "except ValueError as e:\n",
        "  print('Error de valor :', e)\n",
        "else:\n",
        "  print('Ha sido calculado')\n",
        "finally:\n",
        "  print('Sigue el programa')\n",
        "  print('***')"
      ],
      "metadata": {
        "colab": {
          "base_uri": "https://localhost:8080/"
        },
        "id": "irPmPHi9h0vd",
        "outputId": "42a90472-a64e-4dfe-c717-4b15c42af8f4"
      },
      "execution_count": 121,
      "outputs": [
        {
          "output_type": "stream",
          "name": "stdout",
          "text": [
            "Inicia el programa\n",
            "Hola\n",
            "...\n",
            "Empezamos\n",
            "Ingrese un número: 4\n",
            "6\n",
            "Ha sido calculado\n",
            "Sigue el programa\n",
            "***\n"
          ]
        }
      ]
    },
    {
      "cell_type": "markdown",
      "source": [
        "### Generadores, filter, map"
      ],
      "metadata": {
        "id": "-Punb0DZgI6p"
      }
    },
    {
      "cell_type": "code",
      "source": [
        "lista = list(range(1000))"
      ],
      "metadata": {
        "id": "h64-SO8RgRV8"
      },
      "execution_count": 122,
      "outputs": []
    },
    {
      "cell_type": "code",
      "source": [
        "lista[:10]"
      ],
      "metadata": {
        "colab": {
          "base_uri": "https://localhost:8080/"
        },
        "id": "sNZsMV4_i2Ei",
        "outputId": "3c850afd-4dfe-44b6-e024-20e051042aa7"
      },
      "execution_count": 123,
      "outputs": [
        {
          "output_type": "execute_result",
          "data": {
            "text/plain": [
              "[0, 1, 2, 3, 4, 5, 6, 7, 8, 9]"
            ]
          },
          "metadata": {},
          "execution_count": 123
        }
      ]
    },
    {
      "cell_type": "code",
      "source": [
        "def generador_n(n):\n",
        "  for i in range(n):\n",
        "    yield i"
      ],
      "metadata": {
        "id": "LKv8ytvti5RL"
      },
      "execution_count": 124,
      "outputs": []
    },
    {
      "cell_type": "code",
      "source": [
        "a = generador_n(10)"
      ],
      "metadata": {
        "id": "wr6DHsoFi-oG"
      },
      "execution_count": 125,
      "outputs": []
    },
    {
      "cell_type": "code",
      "source": [
        "for i in a:\n",
        "  print(i)"
      ],
      "metadata": {
        "colab": {
          "base_uri": "https://localhost:8080/"
        },
        "id": "6mR-mVzli97t",
        "outputId": "59c68aed-0933-4e61-88f8-15bcf2541efe"
      },
      "execution_count": 126,
      "outputs": [
        {
          "output_type": "stream",
          "name": "stdout",
          "text": [
            "0\n",
            "1\n",
            "2\n",
            "3\n",
            "4\n",
            "5\n",
            "6\n",
            "7\n",
            "8\n",
            "9\n"
          ]
        }
      ]
    },
    {
      "cell_type": "code",
      "source": [
        "for i in a:\n",
        "  print(i)"
      ],
      "metadata": {
        "id": "dVDOSfhojMjA"
      },
      "execution_count": 127,
      "outputs": []
    },
    {
      "cell_type": "code",
      "source": [
        "a = (i for i in range(20))"
      ],
      "metadata": {
        "id": "cjLJ4SJ8jRIl"
      },
      "execution_count": 128,
      "outputs": []
    },
    {
      "cell_type": "code",
      "source": [
        "for i in a:\n",
        "  print(i)\n",
        "\n",
        "list(a)"
      ],
      "metadata": {
        "colab": {
          "base_uri": "https://localhost:8080/"
        },
        "id": "9NysRRREjVxE",
        "outputId": "9dfa73ab-e856-4d87-86d8-d65cdbb8861d"
      },
      "execution_count": 129,
      "outputs": [
        {
          "output_type": "stream",
          "name": "stdout",
          "text": [
            "0\n",
            "1\n",
            "2\n",
            "3\n",
            "4\n",
            "5\n",
            "6\n",
            "7\n",
            "8\n",
            "9\n",
            "10\n",
            "11\n",
            "12\n",
            "13\n",
            "14\n",
            "15\n",
            "16\n",
            "17\n",
            "18\n",
            "19\n"
          ]
        },
        {
          "output_type": "execute_result",
          "data": {
            "text/plain": [
              "[]"
            ]
          },
          "metadata": {},
          "execution_count": 129
        }
      ]
    },
    {
      "cell_type": "markdown",
      "source": [
        "#### filter"
      ],
      "metadata": {
        "id": "5EJP87Q4jdFA"
      }
    },
    {
      "cell_type": "code",
      "source": [
        "lista = list(range(20))\n",
        "lista"
      ],
      "metadata": {
        "colab": {
          "base_uri": "https://localhost:8080/"
        },
        "id": "yDgBs9yCjmsj",
        "outputId": "f4080246-2d2a-41e4-fb82-86f6942adf3b"
      },
      "execution_count": 130,
      "outputs": [
        {
          "output_type": "execute_result",
          "data": {
            "text/plain": [
              "[0, 1, 2, 3, 4, 5, 6, 7, 8, 9, 10, 11, 12, 13, 14, 15, 16, 17, 18, 19]"
            ]
          },
          "metadata": {},
          "execution_count": 130
        }
      ]
    },
    {
      "cell_type": "code",
      "source": [
        "%%time\n",
        "lista_pares = [i for i in lista if i % 2 == 0]\n",
        "lista_pares"
      ],
      "metadata": {
        "colab": {
          "base_uri": "https://localhost:8080/"
        },
        "id": "RTkEc8rwjpCJ",
        "outputId": "a49cb4dc-8f46-4f1c-a029-a98e63de77bb"
      },
      "execution_count": 131,
      "outputs": [
        {
          "output_type": "stream",
          "name": "stdout",
          "text": [
            "CPU times: user 48 µs, sys: 0 ns, total: 48 µs\n",
            "Wall time: 85.1 µs\n"
          ]
        },
        {
          "output_type": "execute_result",
          "data": {
            "text/plain": [
              "[0, 2, 4, 6, 8, 10, 12, 14, 16, 18]"
            ]
          },
          "metadata": {},
          "execution_count": 131
        }
      ]
    },
    {
      "cell_type": "code",
      "source": [
        "filter(lambda x: x % 2 == 0, lista)"
      ],
      "metadata": {
        "colab": {
          "base_uri": "https://localhost:8080/"
        },
        "id": "PmVBc_N8jub4",
        "outputId": "57207cd4-8277-42c3-87d7-ba1811f0d9ef"
      },
      "execution_count": 132,
      "outputs": [
        {
          "output_type": "execute_result",
          "data": {
            "text/plain": [
              "<filter at 0x7f3914fb6fd0>"
            ]
          },
          "metadata": {},
          "execution_count": 132
        }
      ]
    },
    {
      "cell_type": "code",
      "source": [
        "%%time\n",
        "list(filter(lambda x: x % 2 == 0, lista))"
      ],
      "metadata": {
        "colab": {
          "base_uri": "https://localhost:8080/"
        },
        "id": "mda0CXlojuYm",
        "outputId": "8de3e6f9-b433-44a7-9a14-a83f01de15d1"
      },
      "execution_count": 133,
      "outputs": [
        {
          "output_type": "stream",
          "name": "stdout",
          "text": [
            "CPU times: user 13 µs, sys: 1 µs, total: 14 µs\n",
            "Wall time: 18.4 µs\n"
          ]
        },
        {
          "output_type": "execute_result",
          "data": {
            "text/plain": [
              "[0, 2, 4, 6, 8, 10, 12, 14, 16, 18]"
            ]
          },
          "metadata": {},
          "execution_count": 133
        }
      ]
    },
    {
      "cell_type": "markdown",
      "source": [
        "#### map"
      ],
      "metadata": {
        "id": "vskmsBwcjgPW"
      }
    },
    {
      "cell_type": "code",
      "source": [
        "lista = list(range(10))\n",
        "lista"
      ],
      "metadata": {
        "colab": {
          "base_uri": "https://localhost:8080/"
        },
        "id": "dHWsRl_TjfoT",
        "outputId": "cc8919ad-16c4-4ef2-c34d-7c7080b45d4b"
      },
      "execution_count": 134,
      "outputs": [
        {
          "output_type": "execute_result",
          "data": {
            "text/plain": [
              "[0, 1, 2, 3, 4, 5, 6, 7, 8, 9]"
            ]
          },
          "metadata": {},
          "execution_count": 134
        }
      ]
    },
    {
      "cell_type": "code",
      "source": [
        "%%time\n",
        "lista_mul = [i * 2 for i in lista]\n",
        "lista_mul"
      ],
      "metadata": {
        "colab": {
          "base_uri": "https://localhost:8080/"
        },
        "id": "YeZdGmHbjf3k",
        "outputId": "ae35f1a3-be23-4688-9ef0-3165cb43e69e"
      },
      "execution_count": 135,
      "outputs": [
        {
          "output_type": "stream",
          "name": "stdout",
          "text": [
            "CPU times: user 19 µs, sys: 3 µs, total: 22 µs\n",
            "Wall time: 24.6 µs\n"
          ]
        },
        {
          "output_type": "execute_result",
          "data": {
            "text/plain": [
              "[0, 2, 4, 6, 8, 10, 12, 14, 16, 18]"
            ]
          },
          "metadata": {},
          "execution_count": 135
        }
      ]
    },
    {
      "cell_type": "code",
      "source": [
        "map(lambda x: x * 2, lista)"
      ],
      "metadata": {
        "colab": {
          "base_uri": "https://localhost:8080/"
        },
        "id": "CYu4FquNkF98",
        "outputId": "ae557ec4-dc80-4807-e290-639ced94e347"
      },
      "execution_count": 136,
      "outputs": [
        {
          "output_type": "execute_result",
          "data": {
            "text/plain": [
              "<map at 0x7f3914f399a0>"
            ]
          },
          "metadata": {},
          "execution_count": 136
        }
      ]
    },
    {
      "cell_type": "code",
      "source": [
        "%%time\n",
        "list(map(lambda x: x * 2, lista))"
      ],
      "metadata": {
        "colab": {
          "base_uri": "https://localhost:8080/"
        },
        "id": "SOu1-gfekF8O",
        "outputId": "d8f91d2f-c2b1-4272-87c3-f11c633026f0"
      },
      "execution_count": 137,
      "outputs": [
        {
          "output_type": "stream",
          "name": "stdout",
          "text": [
            "CPU times: user 9 µs, sys: 1 µs, total: 10 µs\n",
            "Wall time: 13.8 µs\n"
          ]
        },
        {
          "output_type": "execute_result",
          "data": {
            "text/plain": [
              "[0, 2, 4, 6, 8, 10, 12, 14, 16, 18]"
            ]
          },
          "metadata": {},
          "execution_count": 137
        }
      ]
    },
    {
      "cell_type": "markdown",
      "source": [
        "### Manipulación de documentos"
      ],
      "metadata": {
        "id": "VWn8IsgBgIyu"
      }
    },
    {
      "cell_type": "code",
      "source": [
        "f = open('text.txt', 'w')"
      ],
      "metadata": {
        "id": "U-lD0oNKgRp1"
      },
      "execution_count": 138,
      "outputs": []
    },
    {
      "cell_type": "code",
      "source": [
        "f.write('hola')\n",
        "f.close()"
      ],
      "metadata": {
        "id": "xkJy0_gBk8pO"
      },
      "execution_count": 139,
      "outputs": []
    },
    {
      "cell_type": "code",
      "source": [
        "f = open('text.txt', 'r')\n",
        "f.read()"
      ],
      "metadata": {
        "colab": {
          "base_uri": "https://localhost:8080/",
          "height": 35
        },
        "id": "UYldhDeflBRl",
        "outputId": "1270855e-a3e5-4a5a-dc8d-a686b4cae29b"
      },
      "execution_count": 140,
      "outputs": [
        {
          "output_type": "execute_result",
          "data": {
            "text/plain": [
              "'hola'"
            ],
            "application/vnd.google.colaboratory.intrinsic+json": {
              "type": "string"
            }
          },
          "metadata": {},
          "execution_count": 140
        }
      ]
    },
    {
      "cell_type": "code",
      "source": [
        "f.close()"
      ],
      "metadata": {
        "id": "orRPmj6flHpv"
      },
      "execution_count": 141,
      "outputs": []
    },
    {
      "cell_type": "code",
      "source": [
        "f = open('text.txt', 'a')\n",
        "f.write('hola2')\n",
        "f.close()"
      ],
      "metadata": {
        "id": "fIQjbqxzlJP5"
      },
      "execution_count": 142,
      "outputs": []
    },
    {
      "cell_type": "code",
      "source": [
        "f = open('text.txt', 'r')\n",
        "f.read()"
      ],
      "metadata": {
        "colab": {
          "base_uri": "https://localhost:8080/",
          "height": 35
        },
        "id": "lslAwoYwlJDY",
        "outputId": "b4b8616e-8436-4d0c-f1e2-e21971afac67"
      },
      "execution_count": 143,
      "outputs": [
        {
          "output_type": "execute_result",
          "data": {
            "text/plain": [
              "'holahola2'"
            ],
            "application/vnd.google.colaboratory.intrinsic+json": {
              "type": "string"
            }
          },
          "metadata": {},
          "execution_count": 143
        }
      ]
    },
    {
      "cell_type": "code",
      "source": [
        "f.close()"
      ],
      "metadata": {
        "id": "yusLZj9_lgq6"
      },
      "execution_count": 144,
      "outputs": []
    },
    {
      "cell_type": "code",
      "source": [
        "f = open('text.txt', 'w')\n",
        "f.write('borrado_todo')\n",
        "f.close()"
      ],
      "metadata": {
        "id": "YV8DPGBilhxu"
      },
      "execution_count": 145,
      "outputs": []
    },
    {
      "cell_type": "code",
      "source": [
        "f = open('text.txt', 'r')\n",
        "f.read()"
      ],
      "metadata": {
        "colab": {
          "base_uri": "https://localhost:8080/",
          "height": 35
        },
        "id": "cfWLacHZlhvH",
        "outputId": "4a6631c1-788b-42c8-baf0-d34af36edcc0"
      },
      "execution_count": 146,
      "outputs": [
        {
          "output_type": "execute_result",
          "data": {
            "text/plain": [
              "'borrado_todo'"
            ],
            "application/vnd.google.colaboratory.intrinsic+json": {
              "type": "string"
            }
          },
          "metadata": {},
          "execution_count": 146
        }
      ]
    },
    {
      "cell_type": "code",
      "source": [
        "f.close()"
      ],
      "metadata": {
        "id": "Oql0RxM5lqVd"
      },
      "execution_count": 147,
      "outputs": []
    },
    {
      "cell_type": "markdown",
      "source": [
        "### Módulos"
      ],
      "metadata": {
        "id": "RcaS5ComgImp"
      }
    },
    {
      "cell_type": "code",
      "execution_count": 148,
      "metadata": {
        "id": "NTRXzieYSRCq"
      },
      "outputs": [],
      "source": [
        "import math\n",
        "import statistics as st\n",
        "from random import randint"
      ]
    },
    {
      "cell_type": "code",
      "source": [
        "math.ceil(4.5)"
      ],
      "metadata": {
        "colab": {
          "base_uri": "https://localhost:8080/"
        },
        "id": "EW3ATdXJlwBy",
        "outputId": "7440ee7a-f9a3-4fc3-d0ab-29f3166f2452"
      },
      "execution_count": 149,
      "outputs": [
        {
          "output_type": "execute_result",
          "data": {
            "text/plain": [
              "5"
            ]
          },
          "metadata": {},
          "execution_count": 149
        }
      ]
    },
    {
      "cell_type": "code",
      "source": [
        "st.mean([4, 5, 6, 3])"
      ],
      "metadata": {
        "colab": {
          "base_uri": "https://localhost:8080/"
        },
        "id": "kmNauDUHlzjK",
        "outputId": "2b6748ef-b52d-47db-d0f1-81ecfd1963ab"
      },
      "execution_count": 150,
      "outputs": [
        {
          "output_type": "execute_result",
          "data": {
            "text/plain": [
              "4.5"
            ]
          },
          "metadata": {},
          "execution_count": 150
        }
      ]
    },
    {
      "cell_type": "code",
      "source": [
        "randint(2, 10)"
      ],
      "metadata": {
        "colab": {
          "base_uri": "https://localhost:8080/"
        },
        "id": "VyjY1P2Gl1UA",
        "outputId": "b8e2171d-3af8-4943-edb0-3c71f850473d"
      },
      "execution_count": 151,
      "outputs": [
        {
          "output_type": "execute_result",
          "data": {
            "text/plain": [
              "3"
            ]
          },
          "metadata": {},
          "execution_count": 151
        }
      ]
    }
  ]
}